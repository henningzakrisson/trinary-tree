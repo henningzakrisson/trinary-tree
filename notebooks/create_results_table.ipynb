{
 "cells": [
  {
   "cell_type": "code",
   "execution_count": 6,
   "outputs": [],
   "source": [
    "import pandas as pd"
   ],
   "metadata": {
    "collapsed": false
   }
  },
  {
   "cell_type": "code",
   "execution_count": 50,
   "outputs": [
    {
     "data": {
      "text/plain": "             Majority       MIA  Weighted   Trinary  TrinaryMia\nmissingness                                                    \n0.0          1.000000  1.000000  1.000000  1.000000    1.000000\n0.1          1.252453  1.277135  1.173091  1.134042    1.175634\n0.2          1.361842  1.403483  1.269005  1.181080    1.230794\n0.3          1.655504  1.646337  1.527862  1.357917    1.356418\n0.4          1.903922  1.906285  1.705676  1.539881    1.450913\n0.5          2.057977  2.060289  1.982171  1.717793    1.636453\n0.6          2.216827  2.266529  2.228330  1.893069    1.857330\n0.7          2.546131  2.401143  2.513124  2.360220    2.171342\n0.8          2.796509  2.725520  2.775939  2.606730    2.600863\n0.9          3.010553  2.985076  2.944611  2.931862    2.901896",
      "text/html": "<div>\n<style scoped>\n    .dataframe tbody tr th:only-of-type {\n        vertical-align: middle;\n    }\n\n    .dataframe tbody tr th {\n        vertical-align: top;\n    }\n\n    .dataframe thead th {\n        text-align: right;\n    }\n</style>\n<table border=\"1\" class=\"dataframe\">\n  <thead>\n    <tr style=\"text-align: right;\">\n      <th></th>\n      <th>Majority</th>\n      <th>MIA</th>\n      <th>Weighted</th>\n      <th>Trinary</th>\n      <th>TrinaryMia</th>\n    </tr>\n    <tr>\n      <th>missingness</th>\n      <th></th>\n      <th></th>\n      <th></th>\n      <th></th>\n      <th></th>\n    </tr>\n  </thead>\n  <tbody>\n    <tr>\n      <th>0.0</th>\n      <td>1.000000</td>\n      <td>1.000000</td>\n      <td>1.000000</td>\n      <td>1.000000</td>\n      <td>1.000000</td>\n    </tr>\n    <tr>\n      <th>0.1</th>\n      <td>1.252453</td>\n      <td>1.277135</td>\n      <td>1.173091</td>\n      <td>1.134042</td>\n      <td>1.175634</td>\n    </tr>\n    <tr>\n      <th>0.2</th>\n      <td>1.361842</td>\n      <td>1.403483</td>\n      <td>1.269005</td>\n      <td>1.181080</td>\n      <td>1.230794</td>\n    </tr>\n    <tr>\n      <th>0.3</th>\n      <td>1.655504</td>\n      <td>1.646337</td>\n      <td>1.527862</td>\n      <td>1.357917</td>\n      <td>1.356418</td>\n    </tr>\n    <tr>\n      <th>0.4</th>\n      <td>1.903922</td>\n      <td>1.906285</td>\n      <td>1.705676</td>\n      <td>1.539881</td>\n      <td>1.450913</td>\n    </tr>\n    <tr>\n      <th>0.5</th>\n      <td>2.057977</td>\n      <td>2.060289</td>\n      <td>1.982171</td>\n      <td>1.717793</td>\n      <td>1.636453</td>\n    </tr>\n    <tr>\n      <th>0.6</th>\n      <td>2.216827</td>\n      <td>2.266529</td>\n      <td>2.228330</td>\n      <td>1.893069</td>\n      <td>1.857330</td>\n    </tr>\n    <tr>\n      <th>0.7</th>\n      <td>2.546131</td>\n      <td>2.401143</td>\n      <td>2.513124</td>\n      <td>2.360220</td>\n      <td>2.171342</td>\n    </tr>\n    <tr>\n      <th>0.8</th>\n      <td>2.796509</td>\n      <td>2.725520</td>\n      <td>2.775939</td>\n      <td>2.606730</td>\n      <td>2.600863</td>\n    </tr>\n    <tr>\n      <th>0.9</th>\n      <td>3.010553</td>\n      <td>2.985076</td>\n      <td>2.944611</td>\n      <td>2.931862</td>\n      <td>2.901896</td>\n    </tr>\n  </tbody>\n</table>\n</div>"
     },
     "execution_count": 50,
     "metadata": {},
     "output_type": "execute_result"
    }
   ],
   "source": [
    "folder_path = '../data/results'\n",
    "missingness = 'MCAR_all'\n",
    "data_sets = [\n",
    "    'auto_mpg',\n",
    "    'boston_housing',\n",
    "    'cement',\n",
    "    'black_friday',\n",
    "    'life_expectancy',\n",
    "    'lymphography',\n",
    "    'seeds',\n",
    "    'titanic',\n",
    "]\n",
    "\n",
    "df_dict = {data_set: pd.read_csv(f'{folder_path}/{missingness}/{data_set}.csv', index_col=0) for data_set in data_sets}\n",
    "\n",
    "df_excess_dict = {data_set: df_dict[data_set]/df_dict[data_set].loc[0] for data_set in data_sets}\n",
    "\n",
    "df = pd.concat(df_excess_dict, axis=0)\n",
    "\n",
    "# name the levels of the index to \"data_set\" and \"missingness\"\n",
    "df.index.names = ['data_set', 'missingness']\n",
    "\n",
    "df.groupby('missingness').mean()"
   ],
   "metadata": {
    "collapsed": false
   }
  }
 ],
 "metadata": {
  "kernelspec": {
   "display_name": "Python 3",
   "language": "python",
   "name": "python3"
  },
  "language_info": {
   "codemirror_mode": {
    "name": "ipython",
    "version": 2
   },
   "file_extension": ".py",
   "mimetype": "text/x-python",
   "name": "python",
   "nbconvert_exporter": "python",
   "pygments_lexer": "ipython2",
   "version": "2.7.6"
  }
 },
 "nbformat": 4,
 "nbformat_minor": 0
}
