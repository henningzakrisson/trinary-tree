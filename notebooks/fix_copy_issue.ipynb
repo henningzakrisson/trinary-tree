{
 "cells": [
  {
   "cell_type": "code",
   "execution_count": 6,
   "metadata": {
    "collapsed": true
   },
   "outputs": [],
   "source": [
    "from src.cv_test_pipeline import setup_equal_trees, split_dataset_into_folds\n",
    "import pandas as pd\n",
    "\n",
    "trees = setup_equal_trees(max_depth = 2, min_samples_leaf=20,tree_types = ['Majority','Trinary'])\n",
    "\n"
   ]
  },
  {
   "cell_type": "code",
   "execution_count": 7,
   "outputs": [],
   "source": [
    "# Set up variables\n",
    "data_folder = (\n",
    "    \"/home/heza7322/PycharmProjects/missing-value-handling-in-carts/data/cleaned\"\n",
    ")\n",
    "data_set = \"titanic\"\n",
    "n_folds = 3\n",
    "\n",
    "X = pd.read_csv(f\"{data_folder}/{data_set}.csv\", index_col=0)\n",
    "y = X.pop(\"y\")\n",
    "\n",
    "folds = split_dataset_into_folds(X,y,n_folds)\n",
    "\n"
   ],
   "metadata": {
    "collapsed": false
   }
  },
  {
   "cell_type": "code",
   "execution_count": null,
   "outputs": [],
   "source": [
    "losses = {}\n",
    "for tree in trees:\n",
    "    y = pd.concat([folds[fold][\"Test\"][1] for fold in folds]).sort_index()\n",
    "    if y.dtype == \"object\":\n",
    "        y_prob = pd.DataFrame(columns=y.unique(), index=y.index, dtype=\"float\")\n",
    "    else:\n",
    "        y_hat = pd.Series(index=y.index, dtype=\"float\")\n",
    "    for i, fold in folds.items():\n",
    "        X_train, y_train = fold[\"Train\"]\n",
    "        X_test, _ = fold[\"Test\"]\n",
    "\n",
    "        tree.fit(X_train, y_train)\n",
    "        if y.dtype == \"object\":\n",
    "            y_prob.loc[X_test.index] = tree.predict(X_test, prob=True)\n",
    "        else:\n",
    "            y_hat.loc[X_test.index] = tree.predict(X_test)\n",
    "\n",
    "    if y.dtype == \"object\":\n",
    "        return calculate_loss(y=y, y_prob=y_prob)\n",
    "    else:\n",
    "        return calculate_loss(y=y, y_hat=y_hat)\n"
   ],
   "metadata": {
    "collapsed": false
   }
  }
 ],
 "metadata": {
  "kernelspec": {
   "display_name": "Python 3",
   "language": "python",
   "name": "python3"
  },
  "language_info": {
   "codemirror_mode": {
    "name": "ipython",
    "version": 2
   },
   "file_extension": ".py",
   "mimetype": "text/x-python",
   "name": "python",
   "nbconvert_exporter": "python",
   "pygments_lexer": "ipython2",
   "version": "2.7.6"
  }
 },
 "nbformat": 4,
 "nbformat_minor": 0
}
