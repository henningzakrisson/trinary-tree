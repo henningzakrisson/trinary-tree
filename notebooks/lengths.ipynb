{
 "cells": [
  {
   "cell_type": "code",
   "execution_count": 13,
   "metadata": {
    "collapsed": true
   },
   "outputs": [
    {
     "name": "stdout",
     "output_type": "stream",
     "text": [
      "auto_mpg - 8\n",
      "black_friday - 6\n",
      "cement - 9\n",
      "life_expectancy - 17\n",
      "titanic - 7\n",
      "lymphography - 19\n",
      "boston_housing - 14\n",
      "seeds - 8\n"
     ]
    }
   ],
   "source": [
    "import pandas as pd\n",
    "folder_path = '/home/heza7322/PycharmProjects/missing-value-handling-in-carts/data/cleaned'\n",
    "data_sets = [\n",
    "    # Regression\n",
    "    'auto_mpg',\n",
    "    'black_friday',\n",
    "    'cement',\n",
    "    \"life_expectancy\",\n",
    "\n",
    "    # Classification\n",
    "    'titanic',\n",
    "    \"lymphography\",\n",
    "    'boston_housing',\n",
    "    \"seeds\"]\n",
    "\n",
    "for data_set in data_sets:\n",
    "    df = pd.read_csv(f'{folder_path}/{data_set}.csv', index_col = 0)\n",
    "    print(f'{data_set} - {len(df.columns)}')\n"
   ]
  },
  {
   "cell_type": "code",
   "execution_count": 12,
   "outputs": [
    {
     "data": {
      "text/plain": "8"
     },
     "execution_count": 12,
     "metadata": {},
     "output_type": "execute_result"
    }
   ],
   "source": [
    "len(df.columns)\n"
   ],
   "metadata": {
    "collapsed": false
   }
  }
 ],
 "metadata": {
  "kernelspec": {
   "display_name": "Python 3",
   "language": "python",
   "name": "python3"
  },
  "language_info": {
   "codemirror_mode": {
    "name": "ipython",
    "version": 2
   },
   "file_extension": ".py",
   "mimetype": "text/x-python",
   "name": "python",
   "nbconvert_exporter": "python",
   "pygments_lexer": "ipython2",
   "version": "2.7.6"
  }
 },
 "nbformat": 4,
 "nbformat_minor": 0
}
