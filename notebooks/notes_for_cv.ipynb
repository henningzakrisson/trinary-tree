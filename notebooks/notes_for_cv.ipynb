{
 "cells": [
  {
   "cell_type": "code",
   "execution_count": 1,
   "metadata": {
    "collapsed": true
   },
   "outputs": [
    {
     "name": "stdout",
     "output_type": "stream",
     "text": [
      "/home/heza7322/PycharmProjects/missing-value-handling-in-carts\n"
     ]
    }
   ],
   "source": [
    "import copy\n",
    "import numpy as np\n",
    "import pandas as pd\n",
    "\n",
    "from src.common.functions import get_feature_importance\n",
    "%cd /home/heza7322/PycharmProjects/missing-value-handling-in-carts\n",
    "#%cd /Users/Henning/PycharmProjects/missing-value-handling-in-carts\n",
    "from src.binary_tree import BinaryTree\n",
    "from src.trinary_tree import TrinaryTree\n",
    "from src.weighted_tree import WeightedTree\n",
    "from src.common.functions import get_indices, calculate_loss, fit_response\n"
   ]
  },
  {
   "cell_type": "code",
   "execution_count": 22,
   "outputs": [],
   "source": [
    "def create_missing_Xs(X, ps, seed = None):\n",
    "    \"\"\"\n",
    "    Takes a pandas DataFrame X and a list of probabilities ps, and returns a dictionary\n",
    "    of modified versions of X, with values randomly set to NaN based on the corresponding\n",
    "    probabilities in ps.\n",
    "    \"\"\"\n",
    "    if seed is None:\n",
    "        rng = np.random.default_rng()\n",
    "    else:\n",
    "        rng = np.random.default_rng(seed)\n",
    "    n = len(X)\n",
    "    Xs = {}\n",
    "\n",
    "    X = X.copy()\n",
    "    n_to_drop = 0\n",
    "    for i, p in enumerate(ps):\n",
    "        n_to_drop = int(p * n) - n_to_drop\n",
    "        for j in X.columns:\n",
    "            to_remove = np.random.choice(X.loc[~X[j].isna(),j].index,\n",
    "                                         size = n_to_drop,\n",
    "                                         replace = False)\n",
    "            X.loc[to_remove,j] = np.nan\n",
    "        Xs[p] = X.copy()\n",
    "    return Xs\n",
    "\n",
    "def split_dataset_into_folds(X, y, n_folds, seed = None):\n",
    "    if seed is None:\n",
    "        rng = np.random.default_rng()\n",
    "    else:\n",
    "        rng = np.random.default_rng(seed)\n",
    "    orig_index = X.index\n",
    "    shuffled_index = rng.permutation(orig_index)\n",
    "    test_indices = np.array_split(shuffled_index,n_folds)\n",
    "\n",
    "    folds = {fold: {} for fold in range(n_folds)}\n",
    "    for fold, test_index  in enumerate(test_indices):\n",
    "        train_index = [i for i in orig_index if i not in test_index]\n",
    "        folds[fold]['Train'] = X.loc[train_index], y.loc[train_index]\n",
    "        folds[fold]['Test'] = X.loc[test_index], y.loc[test_index]\n",
    "    return folds\n",
    "\n",
    "def split_missing_datasets_into_folds(Xs,y, n_folds, seed = None):\n",
    "    missing_folds = {p: split_dataset_into_folds(Xs[p],y, n_folds = n_folds, seed=seed) for p in Xs}\n",
    "    return missing_folds\n",
    "\n",
    "def tune_max_depth(folds, max_max_depth = 10, min_samples_leaf = 20):\n",
    "    max_depths = np.arange(max_max_depth+1)\n",
    "    losses = pd.Series(index = max_depths, dtype = float)\n",
    "\n",
    "    for max_depth in max_depths:\n",
    "        tree = BinaryTree(max_depth = max_depth, min_samples_leaf= min_samples_leaf)\n",
    "        losses[max_depth] = calculate_cv_loss(missing_folds[0],tree)\n",
    "\n",
    "        if losses.iloc[max_depth] >= losses.iloc[max_depth-1]:\n",
    "            break\n",
    "\n",
    "    return losses.idxmin()\n",
    "\n",
    "def setup_equal_trees(max_depth = None, min_samples_leaf = None,tree_types = 'all'):\n",
    "    trees = {'Majority': BinaryTree(max_depth = max_depth, min_samples_leaf=min_samples_leaf, missing_rule='majority'),\n",
    "         'MIA': BinaryTree(max_depth=max_depth, min_samples_leaf=min_samples_leaf, missing_rule='mia'),\n",
    "         'Trinary': TrinaryTree(max_depth = max_depth, min_samples_leaf=min_samples_leaf),\n",
    "         'Weighted': WeightedTree(max_depth=max_depth, min_samples_leaf=min_samples_leaf)}\n",
    "\n",
    "    if tree_types == 'all':\n",
    "        return trees\n",
    "\n",
    "    return {tree_type: trees[tree_type] for tree_type in tree_types}\n",
    "\n",
    "def calculate_missing_cvs_loss(missing_folds, trees):\n",
    "    losses = pd.DataFrame(index = Xs.keys(),columns = trees.keys(), dtype= float)\n",
    "    for p in missing_folds:\n",
    "        for tree_type in trees:\n",
    "            losses.loc[p,tree_type] = calculate_cv_loss(missing_folds[p],trees[tree_type])\n",
    "\n",
    "    return losses\n",
    "\n",
    "def calculate_cv_loss(folds,tree):\n",
    "    y = pd.concat([folds[fold]['Test'][1] for fold in folds]).sort_index()\n",
    "    if y.dtype == 'object':\n",
    "        y_prob = pd.DataFrame(columns = y.unique(),index = y.index, dtype = 'float')\n",
    "    else:\n",
    "        y_hat = pd.Series(index = y.index, dtype = 'float')\n",
    "    for i,fold in folds.items():\n",
    "        X_train,y_train = fold['Train']\n",
    "        X_test,_        = fold['Test']\n",
    "\n",
    "        tree.fit(X_train,y_train)\n",
    "        if y.dtype == 'object':\n",
    "            y_prob.loc[X_test.index] = tree.predict(X_test, prob = True)\n",
    "            return calculate_loss(y = y, y_prob = y_prob)\n",
    "        else:\n",
    "            y_hat.loc[X_test.index] = tree.predict(X_test)\n",
    "            return calculate_loss(y = y, y_hat = y_hat)"
   ],
   "metadata": {
    "collapsed": false
   }
  },
  {
   "cell_type": "code",
   "execution_count": 11,
   "outputs": [],
   "source": [
    "# Load data\n",
    "data_folder = 'data/cleaned'\n",
    "data_set = 'auto_mpg'\n",
    "X = pd.read_csv(f'{data_folder}/{data_set}.csv',index_col = 0)\n",
    "y = X.pop('y')\n",
    "\n",
    "# Set up variables\n",
    "seed_missingness = 10\n",
    "seed_fold_split = 11\n",
    "ps = [0,0.25,0.5]\n",
    "n_folds = 3\n",
    "min_samples_leaf = 20\n",
    "max_max_depth = 2\n",
    "\n",
    "# Run pipeline\n",
    "Xs = create_missing_Xs(X, ps, seed = seed_missingness)\n",
    "missing_folds = split_missing_datasets_into_folds(Xs, y, n_folds, seed = seed_fold_split)\n",
    "max_depth = tune_max_depth(missing_folds[0], max_max_depth = max_max_depth, min_samples_leaf=min_samples_leaf)\n",
    "trees = setup_equal_trees(max_depth = max_depth, min_samples_leaf=min_samples_leaf)\n",
    "losses = calculate_missing_cvs_loss(missing_folds, trees)"
   ],
   "metadata": {
    "collapsed": false
   }
  },
  {
   "cell_type": "code",
   "execution_count": 15,
   "outputs": [
    {
     "data": {
      "text/plain": "       Majority        MIA   Trinary   Weighted\n0.00   7.319821   7.319821  7.319821   7.319821\n0.25  12.029909  12.029909  6.958593  11.421310\n0.50  16.967845  16.967845  9.068999  15.818863",
      "text/html": "<div>\n<style scoped>\n    .dataframe tbody tr th:only-of-type {\n        vertical-align: middle;\n    }\n\n    .dataframe tbody tr th {\n        vertical-align: top;\n    }\n\n    .dataframe thead th {\n        text-align: right;\n    }\n</style>\n<table border=\"1\" class=\"dataframe\">\n  <thead>\n    <tr style=\"text-align: right;\">\n      <th></th>\n      <th>Majority</th>\n      <th>MIA</th>\n      <th>Trinary</th>\n      <th>Weighted</th>\n    </tr>\n  </thead>\n  <tbody>\n    <tr>\n      <th>0.00</th>\n      <td>7.319821</td>\n      <td>7.319821</td>\n      <td>7.319821</td>\n      <td>7.319821</td>\n    </tr>\n    <tr>\n      <th>0.25</th>\n      <td>12.029909</td>\n      <td>12.029909</td>\n      <td>6.958593</td>\n      <td>11.421310</td>\n    </tr>\n    <tr>\n      <th>0.50</th>\n      <td>16.967845</td>\n      <td>16.967845</td>\n      <td>9.068999</td>\n      <td>15.818863</td>\n    </tr>\n  </tbody>\n</table>\n</div>"
     },
     "execution_count": 15,
     "metadata": {},
     "output_type": "execute_result"
    }
   ],
   "source": [
    "losses"
   ],
   "metadata": {
    "collapsed": false
   }
  },
  {
   "cell_type": "code",
   "execution_count": 92,
   "outputs": [],
   "source": [
    "# Set up variables\n",
    "data_folder = 'data/cleaned'\n",
    "data_sets = ['titanic','iris']\n",
    "tree_types = ['Majority','Trinary']\n",
    "seed_missingness = 10\n",
    "seed_fold_split = 11\n",
    "ps = [0,0.25]\n",
    "n_folds = 2\n",
    "min_samples_leaf = 20\n",
    "max_max_depth = 2\n",
    "\n",
    "idx = pd.IndexSlice\n",
    "\n",
    "losses  = {}\n",
    "for data_set in data_sets:\n",
    "    X = pd.read_csv(f'{data_folder}/{data_set}.csv',index_col = 0)\n",
    "    y = X.pop('y')\n",
    "\n",
    "    Xs = create_missing_Xs(X, ps, seed = seed_missingness)\n",
    "    missing_folds = split_missing_datasets_into_folds(Xs, y, n_folds, seed = seed_fold_split)\n",
    "    max_depth = tune_max_depth(missing_folds[0], max_max_depth = max_max_depth, min_samples_leaf=min_samples_leaf)\n",
    "    trees = setup_equal_trees(max_depth = max_depth, min_samples_leaf=min_samples_leaf, tree_types=tree_types)\n",
    "    losses[data_set] = calculate_missing_cvs_loss(missing_folds, trees)"
   ],
   "metadata": {
    "collapsed": false
   }
  },
  {
   "cell_type": "code",
   "execution_count": 98,
   "outputs": [
    {
     "data": {
      "text/plain": "              Majority  Trinary\ntitanic 0.00       NaN      NaN\n        0.25       NaN      NaN\niris    0.00       NaN      NaN\n        0.25       NaN      NaN",
      "text/html": "<div>\n<style scoped>\n    .dataframe tbody tr th:only-of-type {\n        vertical-align: middle;\n    }\n\n    .dataframe tbody tr th {\n        vertical-align: top;\n    }\n\n    .dataframe thead th {\n        text-align: right;\n    }\n</style>\n<table border=\"1\" class=\"dataframe\">\n  <thead>\n    <tr style=\"text-align: right;\">\n      <th></th>\n      <th></th>\n      <th>Majority</th>\n      <th>Trinary</th>\n    </tr>\n  </thead>\n  <tbody>\n    <tr>\n      <th rowspan=\"2\" valign=\"top\">titanic</th>\n      <th>0.00</th>\n      <td>NaN</td>\n      <td>NaN</td>\n    </tr>\n    <tr>\n      <th>0.25</th>\n      <td>NaN</td>\n      <td>NaN</td>\n    </tr>\n    <tr>\n      <th rowspan=\"2\" valign=\"top\">iris</th>\n      <th>0.00</th>\n      <td>NaN</td>\n      <td>NaN</td>\n    </tr>\n    <tr>\n      <th>0.25</th>\n      <td>NaN</td>\n      <td>NaN</td>\n    </tr>\n  </tbody>\n</table>\n</div>"
     },
     "execution_count": 98,
     "metadata": {},
     "output_type": "execute_result"
    }
   ],
   "source": [
    "pd.concat(losses)"
   ],
   "metadata": {
    "collapsed": false
   }
  },
  {
   "cell_type": "code",
   "execution_count": 96,
   "outputs": [
    {
     "data": {
      "text/plain": "dict_keys(['titanic', 'iris'])"
     },
     "execution_count": 96,
     "metadata": {},
     "output_type": "execute_result"
    }
   ],
   "source": [
    "losses.keys()"
   ],
   "metadata": {
    "collapsed": false
   }
  },
  {
   "cell_type": "code",
   "execution_count": 90,
   "outputs": [
    {
     "data": {
      "text/plain": "     Majority Trinary\n0.00      NaN     NaN\n0.25      NaN     NaN",
      "text/html": "<div>\n<style scoped>\n    .dataframe tbody tr th:only-of-type {\n        vertical-align: middle;\n    }\n\n    .dataframe tbody tr th {\n        vertical-align: top;\n    }\n\n    .dataframe thead th {\n        text-align: right;\n    }\n</style>\n<table border=\"1\" class=\"dataframe\">\n  <thead>\n    <tr style=\"text-align: right;\">\n      <th></th>\n      <th>Majority</th>\n      <th>Trinary</th>\n    </tr>\n  </thead>\n  <tbody>\n    <tr>\n      <th>0.00</th>\n      <td>NaN</td>\n      <td>NaN</td>\n    </tr>\n    <tr>\n      <th>0.25</th>\n      <td>NaN</td>\n      <td>NaN</td>\n    </tr>\n  </tbody>\n</table>\n</div>"
     },
     "execution_count": 90,
     "metadata": {},
     "output_type": "execute_result"
    }
   ],
   "source": [
    "losses.loc[idx[data_set]]\n"
   ],
   "metadata": {
    "collapsed": false
   }
  },
  {
   "cell_type": "code",
   "execution_count": 91,
   "outputs": [
    {
     "data": {
      "text/plain": "      Majority  Trinary\n0.00       1.0      2.0\n0.25       3.0      5.0",
      "text/html": "<div>\n<style scoped>\n    .dataframe tbody tr th:only-of-type {\n        vertical-align: middle;\n    }\n\n    .dataframe tbody tr th {\n        vertical-align: top;\n    }\n\n    .dataframe thead th {\n        text-align: right;\n    }\n</style>\n<table border=\"1\" class=\"dataframe\">\n  <thead>\n    <tr style=\"text-align: right;\">\n      <th></th>\n      <th>Majority</th>\n      <th>Trinary</th>\n    </tr>\n  </thead>\n  <tbody>\n    <tr>\n      <th>0.00</th>\n      <td>1.0</td>\n      <td>2.0</td>\n    </tr>\n    <tr>\n      <th>0.25</th>\n      <td>3.0</td>\n      <td>5.0</td>\n    </tr>\n  </tbody>\n</table>\n</div>"
     },
     "execution_count": 91,
     "metadata": {},
     "output_type": "execute_result"
    }
   ],
   "source": [
    "these_losses\n"
   ],
   "metadata": {
    "collapsed": false
   }
  }
 ],
 "metadata": {
  "kernelspec": {
   "display_name": "Python 3",
   "language": "python",
   "name": "python3"
  },
  "language_info": {
   "codemirror_mode": {
    "name": "ipython",
    "version": 2
   },
   "file_extension": ".py",
   "mimetype": "text/x-python",
   "name": "python",
   "nbconvert_exporter": "python",
   "pygments_lexer": "ipython2",
   "version": "2.7.6"
  }
 },
 "nbformat": 4,
 "nbformat_minor": 0
}
