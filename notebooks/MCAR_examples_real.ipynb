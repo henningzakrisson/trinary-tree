{
 "cells": [
  {
   "cell_type": "code",
   "execution_count": 6,
   "metadata": {
    "collapsed": true
   },
   "outputs": [
    {
     "name": "stdout",
     "output_type": "stream",
     "text": [
      "/home/heza7322/PycharmProjects/missing-value-handling-in-carts\n"
     ]
    }
   ],
   "source": [
    "import copy\n",
    "import numpy as np\n",
    "import pandas as pd\n",
    "\n",
    "from src.common.functions import get_feature_importance\n",
    "%cd /home/heza7322/PycharmProjects/missing-value-handling-in-carts\n",
    "#%cd /Users/Henning/PycharmProjects/missing-value-handling-in-carts\n",
    "import matplotlib.pyplot as plt\n",
    "from src.binary_tree import BinaryTree\n",
    "from src.trinary_tree import TrinaryTree\n",
    "from src.weighted_tree import WeightedTree\n",
    "from src.common.functions import get_indices, calculate_loss, fit_response"
   ]
  },
  {
   "cell_type": "code",
   "execution_count": 7,
   "outputs": [],
   "source": [
    "def split_into_folds(X, y, n_folds, X_test = None, rng=None):\n",
    "    # X_test if this should be another set\n",
    "    X_test = X_test if X_test is not None else X\n",
    "    rng = rng or np.random.default_rng(11)\n",
    "    shuffled_indices = rng.permutation(X.index)\n",
    "    fold_indices = np.array_split(shuffled_indices, n_folds)\n",
    "    folds = []\n",
    "    for i, test_index in enumerate(fold_indices):\n",
    "        # Concatenate all indices from the other folds to use for training\n",
    "        train_index = np.concatenate([fold_indices[j] for j in range(n_folds) if j != i])\n",
    "        folds.append({\n",
    "            'Train': {\n",
    "                'X': X.loc[train_index],\n",
    "                'y': y.loc[train_index]\n",
    "            },\n",
    "            'Test': {\n",
    "                'X': X_test.loc[test_index],\n",
    "                'y': y.loc[test_index]\n",
    "            }\n",
    "        })\n",
    "\n",
    "    return folds\n",
    "\n",
    "def tune_max_depth(folds, max_max_depth = 10, min_samples_leaf = 20):\n",
    "    max_depths = range(max_max_depth)\n",
    "    losses = pd.Series(index=max_depths, dtype=float)\n",
    "    losses.loc[:] = 0\n",
    "    for max_depth in max_depths:\n",
    "        for fold in folds:\n",
    "            X_train, y_train = fold['Train']['X'],fold['Train']['y']\n",
    "            X_test, y_test  = fold['Test']['X'],fold['Test']['y']\n",
    "            tree = BinaryTree(min_samples_leaf = min_samples_leaf, max_depth = max_depth)\n",
    "            losses[max_depth] += evaluate_tree(tree, X_train, y_train, X_test, y_test)\n",
    "\n",
    "        if max_depth>0:\n",
    "            if losses[max_depth]>losses[max_depth-1]:\n",
    "               break\n",
    "\n",
    "    return losses.idxmin()\n",
    "\n",
    "def evaluate_tree(tree, X_train, y_train, X_test, y_test):\n",
    "    tree.fit(X_train,y_train)\n",
    "    if y_test.dtype == 'float' or y.dtype == 'int':\n",
    "        y_hat = tree.predict(X_test)\n",
    "        return calculate_loss(y = y_test, y_hat = y_hat)\n",
    "    else:\n",
    "        y_prob = tree.predict(X_test, prob = True)\n",
    "        return calculate_loss(y = y_test, y_prob = y_prob)\n",
    "\n",
    "# Remove numbers randomly\n",
    "def remove_random_values(X, missing_probs = [0,0.25,0.5]):\n",
    "    Xs = {0: X.copy()}\n",
    "    n_to_remove = [0]\n",
    "    for i in range(1,len(missing_probs)):\n",
    "        n_to_remove += [int(missing_probs[i]*len(X)) - sum(n_to_remove[:i])]\n",
    "        Xs[i] = Xs[i-1].copy()\n",
    "        for feature in X.columns:\n",
    "            to_remove = Xs[i].loc[~Xs[i][feature].isna()].sample(n_to_remove[i]).index\n",
    "            Xs[i].loc[to_remove,feature] = np.nan\n",
    "\n",
    "    return Xs\n",
    "\n",
    "# Create folds where only the test set contains missing values\n",
    "def split_missing_data_into_folds(Xs, y, n_folds, rng = None, missing_in = 'all'):\n",
    "    rng = rng or np.random.default_rng()\n",
    "    if missing_in == 'all':\n",
    "        return {i: split_into_folds(X = Xs[i], y = y, n_folds = n_folds) for i in range(len(Xs))}\n",
    "    elif missing_in == 'test':\n",
    "        # Assume Xs[0] is the full set\n",
    "        X_test = Xs[0]\n",
    "        return  {i: split_into_folds(X = Xs[i], y = y, n_folds = n_folds, X_test = X_test) for i in range(len(Xs))}\n",
    "\n",
    "def setup_trees(min_samples_leaf = 20, max_depth = 3, tree_types = 'all'):\n",
    "    trees = {'majority': BinaryTree(max_depth=max_depth, min_samples_leaf=min_samples_leaf, missing_rule='majority'),\n",
    "              'mia':      BinaryTree(max_depth=max_depth, min_samples_leaf=min_samples_leaf,missing_rule='mia'),\n",
    "              'trinary':  TrinaryTree(max_depth=max_depth, min_samples_leaf=min_samples_leaf),\n",
    "              'weighted': WeightedTree(max_depth=max_depth, min_samples_leaf=min_samples_leaf)}\n",
    "    if tree_types == 'all':\n",
    "        return trees\n",
    "\n",
    "    return {tree_type: trees[tree_type] for tree_type in tree_types}\n",
    "\n",
    "def test_tree_set(trees, missing_folds):\n",
    "    # Fit trees for every step\n",
    "    losses = pd.DataFrame(columns = [tree_type for tree_type in trees],\n",
    "                           index = range(len(missing_folds)))\n",
    "    losses.loc[:] = 0\n",
    "    for i, folds in enumerate(missing_folds.values()):\n",
    "        for fold in folds:\n",
    "            X_train, y_train = fold['Train']['X'],fold['Train']['y']\n",
    "            X_test, y_test  = fold['Test']['X'],fold['Test']['y']\n",
    "            for tree_type in trees:\n",
    "                losses.loc[i,tree_type] += evaluate_tree(trees[tree_type], X_train, y_train, X_test, y_test)\n",
    "\n",
    "    return losses"
   ],
   "metadata": {
    "collapsed": false
   }
  },
  {
   "cell_type": "code",
   "execution_count": 8,
   "outputs": [],
   "source": [
    "# TODO: Something is wrong since the losses are DECREASING with increasing missingness and also there are nans???"
   ],
   "metadata": {
    "collapsed": false
   }
  },
  {
   "cell_type": "code",
   "execution_count": 36,
   "outputs": [],
   "source": [
    "data_folder = 'data/cleaned'\n",
    "data_set = 'titanic'\n",
    "\n",
    "# Load data\n",
    "df = pd.read_csv(f'{data_folder}/{data_set}.csv',index_col = 0)\n",
    "X = df.drop('y',axis=1)\n",
    "y = df['y']\n",
    "\n",
    "# Set up split\n",
    "random_seed = 100\n",
    "rng = np.random.default_rng(seed = random_seed)\n",
    "\n",
    "# Create folds\n",
    "n_folds = 10\n",
    "folds = split_into_folds(X  = X, y = y,n_folds = n_folds ,rng = rng)\n",
    "\n",
    "# Tune hyperparameter\n",
    "max_depth = tune_max_depth(folds = folds)\n",
    "\n",
    "# Remove values from covariates\n",
    "missing_probs = [0,0.1,0.2,0.3]\n",
    "Xs = remove_random_values(X, missing_probs = missing_probs)\n",
    "# Create folds for every level of missingness\n",
    "missing_folds = split_missing_data_into_folds(Xs, y, n_folds, rng, missing_in = 'all')\n",
    "#missing_folds_test = split_missing_data_into_folds(Xs, y, n_folds, rng, missing_in = 'test')\n",
    "\n",
    "# Set up trees\n",
    "trees = setup_trees(max_depth = max_depth)\n",
    "\n",
    "# Get results\n",
    "losses = test_tree_set(trees,missing_folds)\n",
    "#losses_test = test_tree_set(trees,missing_folds_test)"
   ],
   "metadata": {
    "collapsed": false
   }
  },
  {
   "cell_type": "code",
   "execution_count": 38,
   "outputs": [
    {
     "data": {
      "text/plain": "5"
     },
     "execution_count": 38,
     "metadata": {},
     "output_type": "execute_result"
    }
   ],
   "source": [
    "max_depth"
   ],
   "metadata": {
    "collapsed": false
   }
  },
  {
   "cell_type": "code",
   "execution_count": 29,
   "outputs": [
    {
     "data": {
      "text/plain": "32.852449680013294"
     },
     "execution_count": 29,
     "metadata": {},
     "output_type": "execute_result"
    }
   ],
   "source": [
    "fold = 1\n",
    "missingness_index = 0\n",
    "X_train = missing_folds[missingness_index][fold]['Train']['X']\n",
    "y_train = missing_folds[missingness_index][fold]['Train']['y']\n",
    "X_test  = missing_folds[missingness_index][fold]['Test']['X']\n",
    "y_test  = missing_folds[missingness_index][fold]['Test']['y']\n",
    "\n",
    "tree = trees['majority']\n",
    "tree.fit(X_train,y_train)\n",
    "y_prob = tree.predict(X_test, prob = True)\n",
    "calculate_loss(y = y_test, y_prob = y_prob)"
   ],
   "metadata": {
    "collapsed": false
   }
  },
  {
   "cell_type": "code",
   "execution_count": 40,
   "outputs": [
    {
     "data": {
      "text/plain": "         left     right   balance\n597  0.833333  0.083333  0.083333\n621  0.833333  0.083333  0.083333\n1    0.138889  0.694444  0.166667\n412  0.041667  0.958333  0.000000\n384  0.440000  0.400000  0.160000\n..        ...       ...       ...\n422  0.041667  0.958333  0.000000\n87   0.023810  0.976190  0.000000\n469  0.125000  0.687500  0.187500\n155  0.138889  0.694444  0.166667\n578  0.988095  0.011905  0.000000\n\n[63 rows x 3 columns]",
      "text/html": "<div>\n<style scoped>\n    .dataframe tbody tr th:only-of-type {\n        vertical-align: middle;\n    }\n\n    .dataframe tbody tr th {\n        vertical-align: top;\n    }\n\n    .dataframe thead th {\n        text-align: right;\n    }\n</style>\n<table border=\"1\" class=\"dataframe\">\n  <thead>\n    <tr style=\"text-align: right;\">\n      <th></th>\n      <th>left</th>\n      <th>right</th>\n      <th>balance</th>\n    </tr>\n  </thead>\n  <tbody>\n    <tr>\n      <th>597</th>\n      <td>0.833333</td>\n      <td>0.083333</td>\n      <td>0.083333</td>\n    </tr>\n    <tr>\n      <th>621</th>\n      <td>0.833333</td>\n      <td>0.083333</td>\n      <td>0.083333</td>\n    </tr>\n    <tr>\n      <th>1</th>\n      <td>0.138889</td>\n      <td>0.694444</td>\n      <td>0.166667</td>\n    </tr>\n    <tr>\n      <th>412</th>\n      <td>0.041667</td>\n      <td>0.958333</td>\n      <td>0.000000</td>\n    </tr>\n    <tr>\n      <th>384</th>\n      <td>0.440000</td>\n      <td>0.400000</td>\n      <td>0.160000</td>\n    </tr>\n    <tr>\n      <th>...</th>\n      <td>...</td>\n      <td>...</td>\n      <td>...</td>\n    </tr>\n    <tr>\n      <th>422</th>\n      <td>0.041667</td>\n      <td>0.958333</td>\n      <td>0.000000</td>\n    </tr>\n    <tr>\n      <th>87</th>\n      <td>0.023810</td>\n      <td>0.976190</td>\n      <td>0.000000</td>\n    </tr>\n    <tr>\n      <th>469</th>\n      <td>0.125000</td>\n      <td>0.687500</td>\n      <td>0.187500</td>\n    </tr>\n    <tr>\n      <th>155</th>\n      <td>0.138889</td>\n      <td>0.694444</td>\n      <td>0.166667</td>\n    </tr>\n    <tr>\n      <th>578</th>\n      <td>0.988095</td>\n      <td>0.011905</td>\n      <td>0.000000</td>\n    </tr>\n  </tbody>\n</table>\n<p>63 rows × 3 columns</p>\n</div>"
     },
     "execution_count": 40,
     "metadata": {},
     "output_type": "execute_result"
    }
   ],
   "source": [
    "y_prob\n"
   ],
   "metadata": {
    "collapsed": false
   }
  }
 ],
 "metadata": {
  "kernelspec": {
   "display_name": "Python 3",
   "language": "python",
   "name": "python3"
  },
  "language_info": {
   "codemirror_mode": {
    "name": "ipython",
    "version": 2
   },
   "file_extension": ".py",
   "mimetype": "text/x-python",
   "name": "python",
   "nbconvert_exporter": "python",
   "pygments_lexer": "ipython2",
   "version": "2.7.6"
  }
 },
 "nbformat": 4,
 "nbformat_minor": 0
}
