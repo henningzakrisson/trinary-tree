{
 "cells": [
  {
   "cell_type": "code",
   "execution_count": 19,
   "metadata": {
    "collapsed": true
   },
   "outputs": [],
   "source": [
    "import pandas as pd\n",
    "import numpy as np\n",
    "from src.cv_test_pipeline import (\n",
    "    create_missing_Xs,\n",
    "    split_dataset_into_folds,\n",
    "    split_missing_datasets_into_folds,\n",
    "    tune_max_depth,\n",
    "    calculate_cv_loss,\n",
    "    calculate_loss\n",
    ")\n",
    "from src.binary_tree import BinaryTree\n",
    "from src.common.functions import get_indices"
   ]
  },
  {
   "cell_type": "code",
   "execution_count": 47,
   "outputs": [],
   "source": [
    "data_folder = \"/home/heza7322/PycharmProjects/missing-value-handling-in-carts/data/cleaned\"\n",
    "data_set = \"kr_vs_kp\"\n",
    "X = pd.read_csv(f\"{data_folder}/{data_set}.csv\", index_col=0)\n",
    "y = X.pop(\"y\")\n"
   ],
   "metadata": {
    "collapsed": false
   }
  },
  {
   "cell_type": "code",
   "execution_count": 49,
   "outputs": [
    {
     "name": "stderr",
     "output_type": "stream",
     "text": [
      "/tmp/ipykernel_720515/989775009.py:1: FutureWarning: The default dtype for empty Series will be 'object' instead of 'float64' in a future version. Specify a dtype explicitly to silence this warning.\n",
      "  n_unique = pd.Series(index = X.columns)\n"
     ]
    },
    {
     "data": {
      "text/plain": "37.0"
     },
     "execution_count": 49,
     "metadata": {},
     "output_type": "execute_result"
    }
   ],
   "source": [
    "n_unique = pd.Series(index = X.columns)\n",
    "for column in X.columns:\n",
    "    n_unique[column] = X[column].nunique()-1\n",
    "\n",
    "n_unique.sum()\n"
   ],
   "metadata": {
    "collapsed": false
   }
  },
  {
   "cell_type": "code",
   "execution_count": 51,
   "outputs": [
    {
     "data": {
      "text/plain": "0     2\n1     2\n2     2\n3     2\n4     2\n5     2\n6     2\n7     2\n8     2\n9     2\n10    2\n11    2\n12    2\n13    2\n14    3\n15    2\n16    2\n17    2\n18    2\n19    2\n20    2\n21    2\n22    2\n23    2\n24    2\n25    2\n26    2\n27    2\n28    2\n29    2\n30    2\n31    2\n32    2\n33    2\n34    2\n35    2\ndtype: int64"
     },
     "execution_count": 51,
     "metadata": {},
     "output_type": "execute_result"
    }
   ],
   "source": [
    "X.nunique()\n"
   ],
   "metadata": {
    "collapsed": false
   }
  }
 ],
 "metadata": {
  "kernelspec": {
   "display_name": "Python 3",
   "language": "python",
   "name": "python3"
  },
  "language_info": {
   "codemirror_mode": {
    "name": "ipython",
    "version": 2
   },
   "file_extension": ".py",
   "mimetype": "text/x-python",
   "name": "python",
   "nbconvert_exporter": "python",
   "pygments_lexer": "ipython2",
   "version": "2.7.6"
  }
 },
 "nbformat": 4,
 "nbformat_minor": 0
}
