{
 "cells": [
  {
   "cell_type": "code",
   "execution_count": 29,
   "metadata": {},
   "outputs": [
    {
     "name": "stdout",
     "output_type": "stream",
     "text": [
      "/home/heza7322/PycharmProjects/missing-value-handling-in-carts\n"
     ]
    }
   ],
   "source": [
    "import copy\n",
    "import numpy as np\n",
    "import pandas as pd\n",
    "\n",
    "from src.common.functions import get_feature_importance\n",
    "%cd /home/heza7322/PycharmProjects/missing-value-handling-in-carts\n",
    "from src.trinary_tree import TrinaryTree\n",
    "from src.weighted_tree import WeightedTree\n",
    "from src.common.functions import get_indices, calculate_loss, fit_response"
   ]
  },
  {
   "cell_type": "markdown",
   "metadata": {},
   "source": [
    "### Create data"
   ]
  },
  {
   "cell_type": "code",
   "execution_count": 132,
   "metadata": {},
   "outputs": [],
   "source": [
    "n = 1000\n",
    "seed = 11\n",
    "np.random.seed(seed)\n",
    "X_true = pd.DataFrame()\n",
    "X_true[0] = np.floor(np.arange(n)/10)*10\n",
    "\n",
    "t = X_true[0].quantile(0.10)\n",
    "y = pd.Series(index = X_true.index, dtype = float)\n",
    "\n",
    "y.loc[X_true[0]>=t] = 100\n",
    "y.loc[X_true[0]<t]  = 10\n",
    "\n",
    "# Remove data\n",
    "missing_prob = 0.1\n",
    "to_remove = np.random.binomial(1,missing_prob,n) == 1\n",
    "X = X_true.copy()\n",
    "X.loc[to_remove,0] = np.nan"
   ]
  },
  {
   "cell_type": "code",
   "execution_count": 133,
   "outputs": [],
   "source": [
    "# Hyperparameters\n",
    "max_depth = 1\n",
    "min_samples_leaf = 1"
   ],
   "metadata": {
    "collapsed": false
   }
  },
  {
   "cell_type": "code",
   "execution_count": 134,
   "outputs": [
    {
     "name": "stdout",
     "output_type": "stream",
     "text": [
      "Number of observations: 1000.0\n",
      "Response estimate: 91.0\n",
      "loss: 729.0\n",
      "if 0 <  95.0:\n",
      "---Number of observations: 104.03\n",
      "---Response estimate: 18.91\n",
      "---loss: 2008.73\n",
      "if 0 >=  95.0:\n",
      "---Number of observations: 895.97\n",
      "---Response estimate: 99.37\n",
      "---loss: 56.31\n",
      "mse: 61.6470102\n"
     ]
    }
   ],
   "source": [
    "# Weighted tree\n",
    "weight_tree = WeightedTree(max_depth = max_depth, min_samples_leaf=min_samples_leaf)\n",
    "weight_tree.fit(X,y)\n",
    "weight_tree.print()\n",
    "\n",
    "print(f'mse: {(weight_tree.predict(X)-y).pow(2).mean()}')"
   ],
   "metadata": {
    "collapsed": false
   }
  },
  {
   "cell_type": "code",
   "execution_count": 135,
   "outputs": [
    {
     "name": "stdout",
     "output_type": "stream",
     "text": [
      "Number of observations: 1000\n",
      "Response estimate: 91.0\n",
      "loss: 729.0\n",
      "if 0 <  95.0:\n",
      "---Number of observations: 93\n",
      "---Response estimate: 10.0\n",
      "---loss: 0.0\n",
      "if 0 n/a:\n",
      "---Number of observations: 106\n",
      "---Response estimate: 91.0\n",
      "---loss: 508.92\n",
      "if 0 >=  95.0:\n",
      "---Number of observations: 801\n",
      "---Response estimate: 100.0\n",
      "---loss: 0.0\n",
      "mse: 53.946\n"
     ]
    }
   ],
   "source": [
    "# Trinary tree\n",
    "trin_tree = TrinaryTree(max_depth=max_depth, min_samples_leaf=min_samples_leaf)\n",
    "trin_tree.fit(X,y)\n",
    "trin_tree.print()\n",
    "\n",
    "print(f'mse: {(trin_tree.predict(X)-y).pow(2).mean()}')\n"
   ],
   "metadata": {
    "collapsed": false
   }
  },
  {
   "cell_type": "code",
   "execution_count": 136,
   "outputs": [],
   "source": [
    "feature = 0\n",
    "splitter = t\n",
    "w = pd.Series(index = y.index, dtype = float)\n",
    "w[:]=  1\n"
   ],
   "metadata": {
    "collapsed": false
   }
  },
  {
   "cell_type": "code",
   "execution_count": 137,
   "outputs": [
    {
     "name": "stdout",
     "output_type": "stream",
     "text": [
      "Previous loss: 729.0\n",
      "New loss: 407.6485471698113\n"
     ]
    }
   ],
   "source": [
    "new_loss = trin_tree._calculate_split_loss(X,y,feature,splitter)\n",
    "\n",
    "print(f'Previous loss: {trin_tree.loss}')\n",
    "print(f'New loss: {new_loss}')"
   ],
   "metadata": {
    "collapsed": false
   }
  },
  {
   "cell_type": "code",
   "execution_count": 138,
   "outputs": [
    {
     "name": "stdout",
     "output_type": "stream",
     "text": [
      "Previous loss: 729.0\n",
      "New loss: 259.4115490273654\n"
     ]
    }
   ],
   "source": [
    "new_loss = weight_tree._calculate_split_loss(X=X,y=y,w = w,feature=feature,splitter=splitter)\n",
    "\n",
    "print(f'Previous loss: {weight_tree.loss}')\n",
    "print(f'New loss: {new_loss}')\n"
   ],
   "metadata": {
    "collapsed": false
   }
  },
  {
   "cell_type": "code",
   "execution_count": 139,
   "outputs": [],
   "source": [
    "# Figure out why\n",
    "index_left, index_right = get_indices(X[feature], splitter)\n",
    "p_left, p_right = weight_tree._get_split_probabilities(index_left, index_right)\n",
    "w_left, w_right = w.copy(), w.copy()\n",
    "index_na = (~index_left) & (~index_right)\n",
    "w_left.loc[index_na] *= p_left\n",
    "w_right.loc[index_na] *= p_right\n",
    "index_left |= index_na\n",
    "index_right |= index_na"
   ],
   "metadata": {
    "collapsed": false
   }
  },
  {
   "cell_type": "code",
   "execution_count": 140,
   "outputs": [
    {
     "data": {
      "text/plain": "(18.909999999999997, {}, None)"
     },
     "execution_count": 140,
     "metadata": {},
     "output_type": "execute_result"
    }
   ],
   "source": [
    "fit_response(y = y.loc[index_left], w = w_left.loc[index_left])"
   ],
   "metadata": {
    "collapsed": false
   }
  },
  {
   "cell_type": "code",
   "execution_count": 141,
   "outputs": [
    {
     "data": {
      "text/plain": "(99.37, {}, None)"
     },
     "execution_count": 141,
     "metadata": {},
     "output_type": "execute_result"
    }
   ],
   "source": [
    "fit_response(y = y.loc[index_right], w = w_right.loc[index_right])"
   ],
   "metadata": {
    "collapsed": false
   }
  },
  {
   "cell_type": "code",
   "execution_count": 149,
   "outputs": [],
   "source": [
    "a_r = 100\n",
    "a_l = 10\n",
    "p_r = 0.9\n",
    "p_m = missing_prob\n",
    "\n"
   ],
   "metadata": {
    "collapsed": false
   }
  },
  {
   "cell_type": "code",
   "execution_count": 150,
   "outputs": [
    {
     "data": {
      "text/plain": "[18.1, 91.0, 99.1]"
     },
     "execution_count": 150,
     "metadata": {},
     "output_type": "execute_result"
    }
   ],
   "source": [
    "# Weighted\n",
    "a_r_hat = (1-p_m)*a_r + p_m*p_r*a_r + p_m*(1-p_r)*a_l\n",
    "a_l_hat = (1-p_m)*a_l + p_m*(1-p_r)*a_l + p_m * p_r * a_r\n",
    "a_m_hat = p_r * a_r_hat + (1-p_r) * a_l_hat\n",
    "[a_l_hat,a_m_hat,a_r_hat]"
   ],
   "metadata": {
    "collapsed": false
   }
  },
  {
   "cell_type": "code",
   "execution_count": 151,
   "outputs": [
    {
     "data": {
      "text/plain": "91.0"
     },
     "execution_count": 151,
     "metadata": {},
     "output_type": "execute_result"
    }
   ],
   "source": [
    "y.mean()"
   ],
   "metadata": {
    "collapsed": false
   }
  },
  {
   "cell_type": "code",
   "execution_count": 54,
   "outputs": [],
   "source": [
    "y_left = y.loc[index_left]\n",
    "w_left_true = w_left.loc[index_left]"
   ],
   "metadata": {
    "collapsed": false
   }
  },
  {
   "cell_type": "code",
   "execution_count": 60,
   "outputs": [
    {
     "data": {
      "text/plain": "66.00000000000001"
     },
     "execution_count": 60,
     "metadata": {},
     "output_type": "execute_result"
    }
   ],
   "source": [
    "(y_left*w_left_true).sum()/w_left_true.sum()"
   ],
   "metadata": {
    "collapsed": false
   }
  },
  {
   "cell_type": "code",
   "execution_count": 64,
   "outputs": [
    {
     "data": {
      "text/plain": "w\n0.09434    89.795918\n1.00000     0.000000\nName: y, dtype: float64"
     },
     "execution_count": 64,
     "metadata": {},
     "output_type": "execute_result"
    }
   ],
   "source": [
    "y_w = pd.DataFrame()\n",
    "y_w['y'] = y_left\n",
    "y_w['w'] = w_left_true\n",
    "\n",
    "y_w.groupby('w')['y'].mean()"
   ],
   "metadata": {
    "collapsed": false
   }
  },
  {
   "cell_type": "code",
   "execution_count": 100,
   "outputs": [
    {
     "data": {
      "text/plain": "905.6603773584905"
     },
     "execution_count": 100,
     "metadata": {},
     "output_type": "execute_result"
    }
   ],
   "source": [
    "w_right.loc[index_right].sum()"
   ],
   "metadata": {
    "collapsed": false
   }
  },
  {
   "cell_type": "code",
   "execution_count": 38,
   "outputs": [
    {
     "data": {
      "text/plain": "881.0139982439954"
     },
     "execution_count": 38,
     "metadata": {},
     "output_type": "execute_result"
    }
   ],
   "source": [
    "loss_left_weighted = calculate_loss(y=y.loc[index_left], w=w_left.loc[index_left]) * w_left.loc[index_left].sum()\n",
    "loss_right_weighted = calculate_loss(y=y.loc[index_right], w=w_right.loc[index_right]) * w_right.loc[index_right].sum()\n",
    "(loss_left_weighted + loss_right_weighted) / weight_tree.n\n"
   ],
   "metadata": {
    "collapsed": false
   }
  }
 ],
 "metadata": {
  "kernelspec": {
   "display_name": "Python 3",
   "language": "python",
   "name": "python3"
  },
  "language_info": {
   "codemirror_mode": {
    "name": "ipython",
    "version": 3
   },
   "file_extension": ".py",
   "mimetype": "text/x-python",
   "name": "python",
   "nbconvert_exporter": "python",
   "pygments_lexer": "ipython3",
   "version": "3.7.4"
  }
 },
 "nbformat": 4,
 "nbformat_minor": 2
}
