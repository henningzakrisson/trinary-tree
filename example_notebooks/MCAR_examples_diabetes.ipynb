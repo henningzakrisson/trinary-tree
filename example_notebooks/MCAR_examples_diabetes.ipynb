{
 "cells": [
  {
   "cell_type": "code",
   "execution_count": 1,
   "metadata": {
    "collapsed": true
   },
   "outputs": [
    {
     "name": "stdout",
     "output_type": "stream",
     "text": [
      "/home/heza7322/PycharmProjects/missing-value-handling-in-carts\n"
     ]
    }
   ],
   "source": [
    "import copy\n",
    "import numpy as np\n",
    "import pandas as pd\n",
    "\n",
    "from src.common.functions import get_feature_importance\n",
    "%cd /home/heza7322/PycharmProjects/missing-value-handling-in-carts\n",
    "from src.binary_tree import BinaryTree\n",
    "from src.trinary_tree import TrinaryTree\n",
    "from src.weighted_tree import WeightedTree\n",
    "from src.common.functions import get_indices, calculate_loss, fit_response\n"
   ]
  },
  {
   "cell_type": "code",
   "execution_count": 49,
   "outputs": [],
   "source": [
    "n = 10000\n",
    "seed = 11\n",
    "np.random.seed(seed)\n",
    "df = pd.DataFrame(index = range(n))\n",
    "df['cont_normal'] = np.random.normal(3,2,n)\n",
    "df['cont_linear'] = np.arange(n)\n",
    "df['cont_stairs'] = np.concatenate([np.ones(int(i)) * i for i in np.linspace(0,100000,10)])[:n]\n",
    "df['cat_version'] = np.random.choice(['basic','pro','extra','none'],n,p = [0.5,0.22,0.18,0.1])\n",
    "df['cat_gender'] = np.random.choice(['male','female'],n,p = [0.59,1-0.59])\n",
    "\n",
    "# Reduce unique value space\n",
    "df['cont_normal'] = df['cont_normal'].round(0)\n",
    "df['cont_stairs'] = df['cont_stairs'] .round(0)\n",
    "df['cont_linear'] = np.floor(df['cont_linear']/100)*100\n",
    "\n",
    "features = ['cont_normal','cont_linear','cont_stairs','cat_version','cat_gender']\n",
    "\n",
    "left_00 = df['cont_normal']<df['cont_normal'].quantile(0.7)\n",
    "left_10 = df['cat_version'].isin(['basic','edftra'])\n",
    "left_11 = df['cat_gender']=='male'\n",
    "left_20 = df['cont_stairs'] < df['cont_stairs'].quantile(0.4)\n",
    "left_21 = df['cont_stairs'] < df['cont_stairs'].quantile(0.4)\n",
    "left_22 = df['cat_version'].isin(['basic','none'])\n",
    "left_23 = df['cont_linear'] < df['cont_linear'].mean()\n",
    "\n",
    "index_30 = left_00 & left_10 & left_20\n",
    "index_31 = left_00 & left_10 & (~left_20)\n",
    "index_32 = left_00 & (~left_10) & left_21\n",
    "index_33 = left_00 & (~left_10) & (~left_21)\n",
    "index_34 = (~left_00) & left_11 & left_22\n",
    "index_35 = (~left_00) & left_11 & (~left_22)\n",
    "index_36 = (~left_00) & (~left_11) & left_23\n",
    "index_37 = (~left_00) & (~left_11) & (~left_23)\n",
    "\n",
    "terminal_node_indices = [index_30, index_31, index_32, index_33, index_34, index_35, index_36, index_37]\n",
    "mus = np.arange(8)*10\n",
    "\n",
    "for index,mu in zip(terminal_node_indices,mus):\n",
    "    df.loc[index,'y'] = np.random.normal(mu,1)\n",
    "\n",
    "# Test train split\n",
    "df['test'] = False\n",
    "index_train = np.random.choice(df.index,int(n*0.2))\n",
    "df.loc[index_train,'test'] = True\n",
    "\n",
    "max_depth = 3\n",
    "min_samples_leaf = 5\n",
    "tree_types = {'majority': BinaryTree(max_depth=max_depth, min_samples_leaf=min_samples_leaf,missing_rule='majority'),\n",
    "              'mia':      BinaryTree(max_depth=max_depth, min_samples_leaf=min_samples_leaf,missing_rule='mia'),\n",
    "              'trinary': TrinaryTree(max_depth=max_depth, min_samples_leaf=min_samples_leaf),\n",
    "              'weighted': WeightedTree(max_depth=max_depth, min_samples_leaf=min_samples_leaf)}\n"
   ],
   "metadata": {
    "collapsed": false
   }
  },
  {
   "cell_type": "code",
   "execution_count": 50,
   "outputs": [],
   "source": [
    "# Missingness of different frequencies\n",
    "missing_probs = [0,0.1,0.2,0.3,0.4,0.5,0.6,0.7,0.8,0.9,0.99]\n",
    "\n",
    "dfs = {0: df.copy()}\n",
    "\n",
    "for missing_prob in missing_probs[1:]:\n",
    "    dfs[missing_prob] = df.copy()\n",
    "    for feature in features:\n",
    "        to_remove = np.random.binomial(1,missing_prob,len(df)) == 1\n",
    "        dfs[missing_prob].loc[to_remove,feature] = np.nan"
   ],
   "metadata": {
    "collapsed": false
   }
  },
  {
   "cell_type": "code",
   "execution_count": 51,
   "outputs": [],
   "source": [
    "results = pd.DataFrame(columns = [key for key in tree_types], index = missing_probs)"
   ],
   "metadata": {
    "collapsed": false
   }
  },
  {
   "cell_type": "code",
   "execution_count": null,
   "outputs": [
    {
     "name": "stdout",
     "output_type": "stream",
     "text": [
      "0\n",
      "majority\n",
      "mia\n",
      "trinary\n",
      "weighted\n",
      "0.1\n",
      "majority\n",
      "mia\n",
      "trinary\n",
      "weighted\n",
      "0.2\n",
      "majority\n"
     ]
    }
   ],
   "source": [
    "# Fit trees\n",
    "for missing_prob in missing_probs:\n",
    "    print(missing_prob)\n",
    "    for tree_name in tree_types:\n",
    "        tree = copy.deepcopy(tree_types[tree_name])\n",
    "        tree.fit(dfs[missing_prob].loc[~dfs[missing_prob]['test'],features],dfs[missing_prob].loc[~dfs[missing_prob]['test'],'y'])\n",
    "\n",
    "        y_hat = tree.predict(dfs[missing_prob].loc[dfs[missing_prob]['test'],features])\n",
    "        mse = ((dfs[missing_prob].loc[dfs[missing_prob]['test'],'y'])-y_hat).pow(2).mean()\n",
    "        results.loc[missing_prob,tree_name] = mse\n",
    "        print(tree_name)"
   ],
   "metadata": {
    "collapsed": false,
    "pycharm": {
     "is_executing": true
    }
   }
  },
  {
   "cell_type": "code",
   "execution_count": null,
   "outputs": [],
   "source": [
    "results.plot()"
   ],
   "metadata": {
    "collapsed": false,
    "pycharm": {
     "is_executing": true
    }
   }
  },
  {
   "cell_type": "markdown",
   "source": [],
   "metadata": {
    "collapsed": false
   }
  }
 ],
 "metadata": {
  "kernelspec": {
   "display_name": "Python 3",
   "language": "python",
   "name": "python3"
  },
  "language_info": {
   "codemirror_mode": {
    "name": "ipython",
    "version": 2
   },
   "file_extension": ".py",
   "mimetype": "text/x-python",
   "name": "python",
   "nbconvert_exporter": "python",
   "pygments_lexer": "ipython2",
   "version": "2.7.6"
  }
 },
 "nbformat": 4,
 "nbformat_minor": 0
}
