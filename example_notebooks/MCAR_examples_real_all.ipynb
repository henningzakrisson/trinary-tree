{
 "cells": [
  {
   "cell_type": "code",
   "execution_count": 1,
   "metadata": {
    "collapsed": true
   },
   "outputs": [
    {
     "name": "stdout",
     "output_type": "stream",
     "text": [
      "/home/heza7322/PycharmProjects/missing-value-handling-in-carts\n"
     ]
    }
   ],
   "source": [
    "import copy\n",
    "import numpy as np\n",
    "import pandas as pd\n",
    "\n",
    "from src.common.functions import get_feature_importance\n",
    "%cd /home/heza7322/PycharmProjects/missing-value-handling-in-carts\n",
    "#%cd /Users/Henning/PycharmProjects/missing-value-handling-in-carts\n",
    "import matplotlib.pyplot as plt\n",
    "from src.binary_tree import BinaryTree\n",
    "from src.trinary_tree import TrinaryTree\n",
    "from src.weighted_tree import WeightedTree\n",
    "from src.common.functions import get_indices, calculate_loss, fit_response"
   ]
  },
  {
   "cell_type": "code",
   "execution_count": 2,
   "outputs": [],
   "source": [
    "idx = pd.IndexSlice"
   ],
   "metadata": {
    "collapsed": false
   }
  },
  {
   "cell_type": "code",
   "execution_count": 12,
   "outputs": [
    {
     "ename": "KeyboardInterrupt",
     "evalue": "",
     "output_type": "error",
     "traceback": [
      "\u001B[0;31m---------------------------------------------------------------------------\u001B[0m",
      "\u001B[0;31mKeyboardInterrupt\u001B[0m                         Traceback (most recent call last)",
      "Cell \u001B[0;32mIn[12], line 43\u001B[0m\n\u001B[1;32m     41\u001B[0m \u001B[38;5;28;01mfor\u001B[39;00m max_depth \u001B[38;5;129;01min\u001B[39;00m max_depths:\n\u001B[1;32m     42\u001B[0m     tree \u001B[38;5;241m=\u001B[39m BinaryTree(max_depth \u001B[38;5;241m=\u001B[39m max_depth, min_samples_leaf\u001B[38;5;241m=\u001B[39m min_samples_leaf)\n\u001B[0;32m---> 43\u001B[0m     \u001B[43mtree\u001B[49m\u001B[38;5;241;43m.\u001B[39;49m\u001B[43mfit\u001B[49m\u001B[43m(\u001B[49m\u001B[43mX_train\u001B[49m\u001B[43m,\u001B[49m\u001B[43m \u001B[49m\u001B[43my_train\u001B[49m\u001B[43m)\u001B[49m\n\u001B[1;32m     44\u001B[0m     \u001B[38;5;28;01mif\u001B[39;00m y_test\u001B[38;5;241m.\u001B[39mdtype \u001B[38;5;241m==\u001B[39m \u001B[38;5;28mfloat\u001B[39m:\n\u001B[1;32m     45\u001B[0m         y_hat \u001B[38;5;241m=\u001B[39m tree\u001B[38;5;241m.\u001B[39mpredict(X_test)\n",
      "File \u001B[0;32m~/PycharmProjects/missing-value-handling-in-carts/src/binary_tree.py:102\u001B[0m, in \u001B[0;36mBinaryTree.fit\u001B[0;34m(self, X, y)\u001B[0m\n\u001B[1;32m     99\u001B[0m     \u001B[38;5;28;01mreturn\u001B[39;00m\n\u001B[1;32m    101\u001B[0m \u001B[38;5;66;03m# Find splitting parameters\u001B[39;00m\n\u001B[0;32m--> 102\u001B[0m \u001B[38;5;28mself\u001B[39m\u001B[38;5;241m.\u001B[39mfeature, \u001B[38;5;28mself\u001B[39m\u001B[38;5;241m.\u001B[39msplitter, \u001B[38;5;28mself\u001B[39m\u001B[38;5;241m.\u001B[39mdefault_split \u001B[38;5;241m=\u001B[39m \u001B[38;5;28;43mself\u001B[39;49m\u001B[38;5;241;43m.\u001B[39;49m\u001B[43m_find_split\u001B[49m\u001B[43m(\u001B[49m\u001B[43mX\u001B[49m\u001B[43m,\u001B[49m\u001B[43m \u001B[49m\u001B[43my\u001B[49m\u001B[43m)\u001B[49m\n\u001B[1;32m    104\u001B[0m \u001B[38;5;28;01mif\u001B[39;00m \u001B[38;5;28mself\u001B[39m\u001B[38;5;241m.\u001B[39mfeature \u001B[38;5;129;01mis\u001B[39;00m \u001B[38;5;28;01mNone\u001B[39;00m:\n\u001B[1;32m    105\u001B[0m     \u001B[38;5;28;01mreturn\u001B[39;00m\n",
      "File \u001B[0;32m~/PycharmProjects/missing-value-handling-in-carts/src/binary_tree.py:142\u001B[0m, in \u001B[0;36mBinaryTree._find_split\u001B[0;34m(self, X, y)\u001B[0m\n\u001B[1;32m    140\u001B[0m splitters \u001B[38;5;241m=\u001B[39m get_splitter_candidates(X[feature])\n\u001B[1;32m    141\u001B[0m \u001B[38;5;28;01mfor\u001B[39;00m splitter \u001B[38;5;129;01min\u001B[39;00m splitters:\n\u001B[0;32m--> 142\u001B[0m     default_splits \u001B[38;5;241m=\u001B[39m \u001B[38;5;28;43mself\u001B[39;49m\u001B[38;5;241;43m.\u001B[39;49m\u001B[43m_get_default_split_candidates\u001B[49m\u001B[43m(\u001B[49m\n\u001B[1;32m    143\u001B[0m \u001B[43m        \u001B[49m\u001B[43mX\u001B[49m\u001B[43m,\u001B[49m\u001B[43m \u001B[49m\u001B[43mfeature\u001B[49m\u001B[43m,\u001B[49m\u001B[43m \u001B[49m\u001B[43msplitter\u001B[49m\n\u001B[1;32m    144\u001B[0m \u001B[43m    \u001B[49m\u001B[43m)\u001B[49m\n\u001B[1;32m    145\u001B[0m     \u001B[38;5;28;01mfor\u001B[39;00m default_split \u001B[38;5;129;01min\u001B[39;00m default_splits:\n\u001B[1;32m    146\u001B[0m         loss \u001B[38;5;241m=\u001B[39m \u001B[38;5;28mself\u001B[39m\u001B[38;5;241m.\u001B[39m_calculate_split_loss(\n\u001B[1;32m    147\u001B[0m             X, y, feature, splitter, default_split\n\u001B[1;32m    148\u001B[0m         )\n",
      "File \u001B[0;32m~/PycharmProjects/missing-value-handling-in-carts/src/binary_tree.py:182\u001B[0m, in \u001B[0;36mBinaryTree._get_default_split_candidates\u001B[0;34m(self, X, feature, splitter)\u001B[0m\n\u001B[1;32m    174\u001B[0m         \u001B[38;5;28;01mreturn\u001B[39;00m (\n\u001B[1;32m    175\u001B[0m             [\u001B[38;5;124m\"\u001B[39m\u001B[38;5;124mleft\u001B[39m\u001B[38;5;124m\"\u001B[39m]\n\u001B[1;32m    176\u001B[0m             \u001B[38;5;28;01mif\u001B[39;00m \u001B[38;5;28msum\u001B[39m(X[feature] \u001B[38;5;241m<\u001B[39m splitter) \u001B[38;5;241m>\u001B[39m \u001B[38;5;28msum\u001B[39m(X[feature] \u001B[38;5;241m>\u001B[39m\u001B[38;5;241m=\u001B[39m splitter)\n\u001B[1;32m    177\u001B[0m             \u001B[38;5;28;01melse\u001B[39;00m [\u001B[38;5;124m\"\u001B[39m\u001B[38;5;124mright\u001B[39m\u001B[38;5;124m\"\u001B[39m]\n\u001B[1;32m    178\u001B[0m         )\n\u001B[1;32m    179\u001B[0m     \u001B[38;5;28;01melif\u001B[39;00m \u001B[38;5;28misinstance\u001B[39m(splitter, \u001B[38;5;28mdict\u001B[39m):\n\u001B[1;32m    180\u001B[0m         \u001B[38;5;28;01mreturn\u001B[39;00m (\n\u001B[1;32m    181\u001B[0m             [\u001B[38;5;124m\"\u001B[39m\u001B[38;5;124mleft\u001B[39m\u001B[38;5;124m\"\u001B[39m]\n\u001B[0;32m--> 182\u001B[0m             \u001B[38;5;28;01mif\u001B[39;00m \u001B[38;5;28msum\u001B[39m(\u001B[43mX\u001B[49m\u001B[43m[\u001B[49m\u001B[43mfeature\u001B[49m\u001B[43m]\u001B[49m\u001B[38;5;241;43m.\u001B[39;49m\u001B[43misin\u001B[49m\u001B[43m(\u001B[49m\u001B[43msplitter\u001B[49m\u001B[43m[\u001B[49m\u001B[38;5;124;43m\"\u001B[39;49m\u001B[38;5;124;43mleft\u001B[39;49m\u001B[38;5;124;43m\"\u001B[39;49m\u001B[43m]\u001B[49m\u001B[43m)\u001B[49m)\n\u001B[1;32m    183\u001B[0m             \u001B[38;5;241m>\u001B[39m \u001B[38;5;28msum\u001B[39m(X[feature]\u001B[38;5;241m.\u001B[39misin(splitter[\u001B[38;5;124m\"\u001B[39m\u001B[38;5;124mright\u001B[39m\u001B[38;5;124m\"\u001B[39m]))\n\u001B[1;32m    184\u001B[0m             \u001B[38;5;28;01melse\u001B[39;00m [\u001B[38;5;124m\"\u001B[39m\u001B[38;5;124mright\u001B[39m\u001B[38;5;124m\"\u001B[39m]\n\u001B[1;32m    185\u001B[0m         )\n\u001B[1;32m    186\u001B[0m \u001B[38;5;28;01melse\u001B[39;00m:  \u001B[38;5;66;03m# mia strategy\u001B[39;00m\n\u001B[1;32m    187\u001B[0m     \u001B[38;5;28;01mreturn\u001B[39;00m [\u001B[38;5;124m\"\u001B[39m\u001B[38;5;124mleft\u001B[39m\u001B[38;5;124m\"\u001B[39m, \u001B[38;5;124m\"\u001B[39m\u001B[38;5;124mright\u001B[39m\u001B[38;5;124m\"\u001B[39m]\n",
      "File \u001B[0;32m~/anaconda3/envs/my_env/lib/python3.8/site-packages/pandas/core/series.py:5563\u001B[0m, in \u001B[0;36mSeries.isin\u001B[0;34m(self, values)\u001B[0m\n\u001B[1;32m   5490\u001B[0m \u001B[38;5;28;01mdef\u001B[39;00m \u001B[38;5;21misin\u001B[39m(\u001B[38;5;28mself\u001B[39m, values) \u001B[38;5;241m-\u001B[39m\u001B[38;5;241m>\u001B[39m Series:\n\u001B[1;32m   5491\u001B[0m     \u001B[38;5;124;03m\"\"\"\u001B[39;00m\n\u001B[1;32m   5492\u001B[0m \u001B[38;5;124;03m    Whether elements in Series are contained in `values`.\u001B[39;00m\n\u001B[1;32m   5493\u001B[0m \n\u001B[0;32m   (...)\u001B[0m\n\u001B[1;32m   5561\u001B[0m \u001B[38;5;124;03m    dtype: bool\u001B[39;00m\n\u001B[1;32m   5562\u001B[0m \u001B[38;5;124;03m    \"\"\"\u001B[39;00m\n\u001B[0;32m-> 5563\u001B[0m     result \u001B[38;5;241m=\u001B[39m \u001B[43malgorithms\u001B[49m\u001B[38;5;241;43m.\u001B[39;49m\u001B[43misin\u001B[49m\u001B[43m(\u001B[49m\u001B[38;5;28;43mself\u001B[39;49m\u001B[38;5;241;43m.\u001B[39;49m\u001B[43m_values\u001B[49m\u001B[43m,\u001B[49m\u001B[43m \u001B[49m\u001B[43mvalues\u001B[49m\u001B[43m)\u001B[49m\n\u001B[1;32m   5564\u001B[0m     \u001B[38;5;28;01mreturn\u001B[39;00m \u001B[38;5;28mself\u001B[39m\u001B[38;5;241m.\u001B[39m_constructor(result, index\u001B[38;5;241m=\u001B[39m\u001B[38;5;28mself\u001B[39m\u001B[38;5;241m.\u001B[39mindex)\u001B[38;5;241m.\u001B[39m__finalize__(\n\u001B[1;32m   5565\u001B[0m         \u001B[38;5;28mself\u001B[39m, method\u001B[38;5;241m=\u001B[39m\u001B[38;5;124m\"\u001B[39m\u001B[38;5;124misin\u001B[39m\u001B[38;5;124m\"\u001B[39m\n\u001B[1;32m   5566\u001B[0m     )\n",
      "File \u001B[0;32m~/anaconda3/envs/my_env/lib/python3.8/site-packages/pandas/core/algorithms.py:523\u001B[0m, in \u001B[0;36misin\u001B[0;34m(comps, values)\u001B[0m\n\u001B[1;32m    520\u001B[0m     comps_array \u001B[38;5;241m=\u001B[39m comps_array\u001B[38;5;241m.\u001B[39mastype(common, copy\u001B[38;5;241m=\u001B[39m\u001B[38;5;28;01mFalse\u001B[39;00m)\n\u001B[1;32m    521\u001B[0m     f \u001B[38;5;241m=\u001B[39m htable\u001B[38;5;241m.\u001B[39mismember\n\u001B[0;32m--> 523\u001B[0m \u001B[38;5;28;01mreturn\u001B[39;00m \u001B[43mf\u001B[49m\u001B[43m(\u001B[49m\u001B[43mcomps_array\u001B[49m\u001B[43m,\u001B[49m\u001B[43m \u001B[49m\u001B[43mvalues\u001B[49m\u001B[43m)\u001B[49m\n",
      "\u001B[0;31mKeyboardInterrupt\u001B[0m: "
     ]
    }
   ],
   "source": [
    "np.random.seed(11)\n",
    "\n",
    "data_folder = 'example_notebooks/data_to_use/'\n",
    "file_names = {'balance_scale': 'balance_scale.csv',\n",
    "              'lymphography': 'lymphography.csv',\n",
    "              'iris': 'iris.csv',\n",
    "              'kr-vs-kp':'kr_vs_kp.csv',\n",
    "              'titanic': 'titanic.csv',\n",
    "              'boston_housing': 'boston_housing.csv',\n",
    "              'black_friday':'black_friday.csv'}\n",
    "\n",
    "tree_types = ['majority','mia','weighted','trinary']\n",
    "missingnesses = ['all','test']\n",
    "missing_probs = [0,0.5]\n",
    "index = pd.MultiIndex.from_product([file_names,missingnesses,tree_types],names = ['file_name','missingness','tree_type'])\n",
    "errors = pd.DataFrame(index = index, columns = missing_probs)\n",
    "\n",
    "max_depths = np.arange(1,10)\n",
    "min_samples_leaf = 20\n",
    "\n",
    "for file_name in file_names:\n",
    "    # Load data\n",
    "    df = pd.read_csv(data_folder+file_names[file_name],index_col = 0)\n",
    "    features = [column for column in df.columns if column!='y']\n",
    "    df.reset_index(inplace = True,drop=True)\n",
    "\n",
    "    # Test train split\n",
    "    n = len(df)\n",
    "    df['test'] = False\n",
    "    index_train = np.random.choice(df.index,int(n*0.2))\n",
    "    df.loc[index_train,'test'] = True\n",
    "\n",
    "    X_train = df.loc[~df['test'],features]\n",
    "    y_train = df.loc[~df['test'],'y']\n",
    "    X_test  = df.loc[df['test'],features]\n",
    "    y_test  = df.loc[df['test'],'y']\n",
    "\n",
    "    losses = pd.Series(index = np.arange(0,max(max_depths)), dtype = float)\n",
    "    losses[0] = calculate_loss(y_test)\n",
    "\n",
    "    for max_depth in max_depths:\n",
    "        tree = BinaryTree(max_depth = max_depth, min_samples_leaf= min_samples_leaf)\n",
    "        tree.fit(X_train, y_train)\n",
    "        if y_test.dtype == float:\n",
    "            y_hat = tree.predict(X_test)\n",
    "            loss = calculate_loss(y_test,y_hat = y_hat)\n",
    "        else:\n",
    "            y_prob = tree.predict(X_test, prob = True)\n",
    "            loss = calculate_loss(y_test,y_prob = y_prob)\n",
    "\n",
    "        losses.loc[max_depth] = loss\n",
    "        if max_depth>1:\n",
    "            if losses.loc[max_depth]>=losses.loc[max_depth-1]:\n",
    "                break\n",
    "\n",
    "    max_depth = losses.idxmin()\n",
    "\n",
    "    # Set up trees\n",
    "    tree_types = {'majority': BinaryTree(max_depth=max_depth, min_samples_leaf=min_samples_leaf, missing_rule='majority'),\n",
    "                  'mia':      BinaryTree(max_depth=max_depth, min_samples_leaf=min_samples_leaf,missing_rule='mia'),\n",
    "                  'trinary':  TrinaryTree(max_depth=max_depth, min_samples_leaf=min_samples_leaf),\n",
    "                  'weighted': WeightedTree(max_depth=max_depth, min_samples_leaf=min_samples_leaf)}\n",
    "\n",
    "    dfs = {0: df.copy()}\n",
    "    n_to_remove = [0]\n",
    "    for i in range(1,len(missing_probs)):\n",
    "        n_to_remove += [int(missing_probs[i]*n) - sum(n_to_remove[:i])]\n",
    "        dfs[i] = dfs[i-1].copy()\n",
    "        for feature in features:\n",
    "            to_remove = dfs[i].loc[~dfs[i][feature].isna()].sample(n_to_remove[i]).index\n",
    "            dfs[i].loc[to_remove,feature] = np.nan\n",
    "\n",
    "    # Fit trees\n",
    "    trees = {}\n",
    "    for i,missing_prob in enumerate(missing_probs):\n",
    "        X_train = dfs[i].loc[~dfs[i]['test'],features]\n",
    "        y_train = dfs[i].loc[~dfs[i]['test'],'y']\n",
    "        X_test  = dfs[i].loc[dfs[i]['test'],features]\n",
    "        y_test  = dfs[i].loc[dfs[i]['test'],'y']\n",
    "        trees[i] = {}\n",
    "        for tree_name in tree_types:\n",
    "            trees[i][tree_name] = copy.deepcopy(tree_types[tree_name])\n",
    "            trees[i][tree_name].fit(X_train,y_train)\n",
    "            if y_test.dtype == float:\n",
    "                y_hat = trees[i][tree_name].predict(X_test)\n",
    "                loss = calculate_loss(y_test, y_hat = y_hat)\n",
    "            else:\n",
    "                y_prob = trees[i][tree_name].predict(X_test, prob = True)\n",
    "                loss = calculate_loss(y_test, y_prob = y_prob)\n",
    "            errors.loc[idx[file_name,'all',tree_name],missing_prob] = loss\n",
    "\n",
    "    # Missingness of different frequencies ONLY in test data\n",
    "    for i,missing_prob in enumerate(missing_probs):\n",
    "        X_test  = dfs[i].loc[dfs[i]['test'],features]\n",
    "        y_test  = dfs[i].loc[dfs[i]['test'],'y']\n",
    "        for tree_name in tree_types:\n",
    "            if y_test.dtype == float:\n",
    "                y_hat = trees[0][tree_name].predict(X_test)\n",
    "                loss = calculate_loss(y_test, y_hat = y_hat)\n",
    "            else:\n",
    "                y_prob = trees[0][tree_name].predict(X_test, prob = True)\n",
    "                loss = calculate_loss(y_test, y_prob = y_prob)\n",
    "            errors.loc[idx[file_name,'test',tree_name],missing_prob] = loss\n"
   ],
   "metadata": {
    "collapsed": false
   }
  },
  {
   "cell_type": "code",
   "execution_count": null,
   "outputs": [],
   "source": [
    "errors_norm = pd.DataFrame(index = errors.index, columns = errors.columns)\n",
    "for file_name in file_names:\n",
    "    for missingness in missingnesses:\n",
    "        errors_norm.loc[idx[file_name,missingness,:],:] = errors.loc[idx[file_name,missingness,:],:].div(errors.loc[idx[file_name,missingness,:],0],axis=0)"
   ],
   "metadata": {
    "collapsed": false
   }
  },
  {
   "cell_type": "code",
   "execution_count": null,
   "outputs": [],
   "source": [
    "errors_norm_avg = errors_norm.groupby(['missingness','tree_type']).mean()"
   ],
   "metadata": {
    "collapsed": false
   }
  },
  {
   "cell_type": "code",
   "execution_count": null,
   "outputs": [],
   "source": [
    "errors_norm_avg.loc[idx['all',:]].T.plot()"
   ],
   "metadata": {
    "collapsed": false
   }
  },
  {
   "cell_type": "code",
   "execution_count": null,
   "outputs": [],
   "source": [
    "errors_norm_avg.loc[idx['test',:]].T.plot()"
   ],
   "metadata": {
    "collapsed": false
   }
  },
  {
   "cell_type": "markdown",
   "source": [],
   "metadata": {
    "collapsed": false
   }
  }
 ],
 "metadata": {
  "kernelspec": {
   "display_name": "Python 3",
   "language": "python",
   "name": "python3"
  },
  "language_info": {
   "codemirror_mode": {
    "name": "ipython",
    "version": 2
   },
   "file_extension": ".py",
   "mimetype": "text/x-python",
   "name": "python",
   "nbconvert_exporter": "python",
   "pygments_lexer": "ipython2",
   "version": "2.7.6"
  }
 },
 "nbformat": 4,
 "nbformat_minor": 0
}
