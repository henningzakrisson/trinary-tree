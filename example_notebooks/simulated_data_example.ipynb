{
 "cells": [
  {
   "cell_type": "code",
   "execution_count": 3,
   "metadata": {},
   "outputs": [
    {
     "name": "stdout",
     "output_type": "stream",
     "text": [
      "/home/heza7322/PycharmProjects/missing-value-handling-in-carts\n"
     ]
    }
   ],
   "source": [
    "import copy\n",
    "import numpy as np\n",
    "import pandas as pd\n",
    "\n",
    "from src.common.functions import get_feature_importance\n",
    "%cd /home/heza7322/PycharmProjects/missing-value-handling-in-carts\n",
    "from src.binary_tree import BinaryTree\n",
    "from src.trinary_tree import TrinaryTree\n",
    "from src.weighted_tree import WeightedTree\n",
    "from src.common.functions import get_indices, calculate_loss, fit_response"
   ]
  },
  {
   "cell_type": "markdown",
   "metadata": {},
   "source": [
    "### Create data"
   ]
  },
  {
   "cell_type": "code",
   "execution_count": 4,
   "metadata": {},
   "outputs": [],
   "source": [
    "n = 10000\n",
    "seed = 11\n",
    "np.random.seed(seed)\n",
    "df = pd.DataFrame(index = range(n))\n",
    "df['cont_normal'] = np.random.normal(3,2,n)\n",
    "df['cont_linear'] = np.arange(n)\n",
    "df['cont_stairs'] = np.concatenate([np.ones(int(i)) * i for i in np.linspace(0,10000,10)])[:n]\n",
    "df['cat_version'] = np.random.choice(['basic','pro','extra','none'],n,p = [0.5,0.22,0.18,0.1])\n",
    "df['cat_gender'] = np.random.choice(['male','female'],n,p = [0.59,1-0.59])\n",
    "\n",
    "# Reduce unique value space\n",
    "df['cont_normal'] = df['cont_normal'].round(1)\n",
    "df['cont_stairs'] = df['cont_stairs'] .round(1)\n",
    "df['cont_linear'] = np.floor(df['cont_linear']/10)*10\n",
    "\n",
    "features = ['cont_normal','cont_linear','cont_stairs','cat_version','cat_gender']"
   ]
  },
  {
   "cell_type": "markdown",
   "metadata": {},
   "source": [
    "### True tree structure"
   ]
  },
  {
   "cell_type": "code",
   "execution_count": 5,
   "metadata": {},
   "outputs": [],
   "source": [
    "left_00 = df['cont_normal']<df['cont_normal'].quantile(0.7)\n",
    "left_10 = df['cat_version'].isin(['basic','edftra'])\n",
    "left_11 = df['cat_gender']=='male'\n",
    "left_20 = df['cont_stairs'] < df['cont_stairs'].quantile(0.4)\n",
    "left_21 = df['cont_stairs'] < df['cont_stairs'].quantile(0.4)\n",
    "left_22 = df['cat_version'].isin(['basic','none'])\n",
    "left_23 = df['cont_linear'] < df['cont_linear'].mean()\n",
    "\n",
    "index_30 = left_00 & left_10 & left_20\n",
    "index_31 = left_00 & left_10 & (~left_20)\n",
    "index_32 = left_00 & (~left_10) & left_21\n",
    "index_33 = left_00 & (~left_10) & (~left_21)\n",
    "index_34 = (~left_00) & left_11 & left_22\n",
    "index_35 = (~left_00) & left_11 & (~left_22)\n",
    "index_36 = (~left_00) & (~left_11) & left_23\n",
    "index_37 = (~left_00) & (~left_11) & (~left_23)\n",
    "\n",
    "terminal_node_indices = [index_30, index_31, index_32, index_33, index_34, index_35, index_36, index_37]\n",
    "mus = np.arange(8)*10\n",
    "\n",
    "for index,mu in zip(terminal_node_indices,mus):\n",
    "    df.loc[index,'y'] = np.random.normal(mu,1)\n",
    "    \n",
    "# Test train split\n",
    "df['test'] = False\n",
    "index_train = np.random.choice(df.index,int(n*0.2))\n",
    "df.loc[index_train,'test'] = True"
   ]
  },
  {
   "cell_type": "markdown",
   "metadata": {},
   "source": [
    "### Hyperparameters"
   ]
  },
  {
   "cell_type": "code",
   "execution_count": 6,
   "metadata": {},
   "outputs": [],
   "source": [
    "max_depth = 3\n",
    "min_samples_leaf = 5\n",
    "tree_types = {'majority': BinaryTree(max_depth=max_depth, min_samples_leaf=min_samples_leaf,missing_rule='majority'),\n",
    "              'mia':      BinaryTree(max_depth=max_depth, min_samples_leaf=min_samples_leaf,missing_rule='mia'),\n",
    "              'trinary': TrinaryTree(max_depth=max_depth, min_samples_leaf=min_samples_leaf),\n",
    "              'weighted': WeightedTree(max_depth=max_depth, min_samples_leaf=min_samples_leaf)}"
   ]
  },
  {
   "cell_type": "markdown",
   "metadata": {},
   "source": [
    "### Example 1: No missing data"
   ]
  },
  {
   "cell_type": "code",
   "execution_count": 7,
   "metadata": {},
   "outputs": [
    {
     "name": "stdout",
     "output_type": "stream",
     "text": [
      "                    train          test\n",
      "se_majority  4.794639e-29  4.947625e-29\n",
      "se_mia       4.794639e-29  4.947625e-29\n",
      "se_trinary   4.794639e-29  4.947625e-29\n",
      "se_weighted  4.794639e-29  4.947625e-29\n"
     ]
    }
   ],
   "source": [
    "# Fit trees_0\n",
    "trees_0 = {}\n",
    "for tree_name in tree_types:\n",
    "    trees_0[tree_name] = copy.deepcopy(tree_types[tree_name])\n",
    "    trees_0[tree_name].fit(df.loc[~df['test'],features],df.loc[~df['test'],'y'])\n",
    "    df.loc[:, f'y_hat_{tree_name}'] = trees_0[tree_name].predict(df[features])\n",
    "    \n",
    "\n",
    "# Calculate squared errors\n",
    "predictions = [f'y_hat_{tree_name}' for tree_name in tree_types]\n",
    "squared_errors = [f'se_{tree_name}' for tree_name in tree_types]\n",
    "df[squared_errors] = df[predictions].subtract(df['y'],axis=0).pow(2)\n",
    "\n",
    "# Check results\n",
    "df_res = pd.DataFrame(columns = ['train','test'])\n",
    "df_res['train'] = df.loc[~df['test'],squared_errors].mean(axis=0)\n",
    "df_res['test']  = df.loc[df['test'],squared_errors].mean(axis=0)\n",
    "print(df_res)"
   ]
  },
  {
   "cell_type": "markdown",
   "metadata": {},
   "source": [
    "### Example 2: MCAR in entire dataset"
   ]
  },
  {
   "cell_type": "code",
   "execution_count": 8,
   "metadata": {
    "scrolled": true
   },
   "outputs": [
    {
     "name": "stdout",
     "output_type": "stream",
     "text": [
      "                  train        test\n",
      "se_majority  271.923924  251.842019\n",
      "se_mia       252.034822  232.682935\n",
      "se_trinary   251.840413  240.678218\n",
      "se_weighted  289.177976  276.399819\n"
     ]
    }
   ],
   "source": [
    "prob_missing = 0.5\n",
    "df_mcar_0 = df[features+['y','test']].copy()\n",
    "\n",
    "for feature in features:\n",
    "    to_remove = np.random.binomial(1,prob_missing,len(df)) == 1\n",
    "    df_mcar_0.loc[to_remove,feature] = np.nan\n",
    "\n",
    "# Fit trees_1\n",
    "trees_1 = {}\n",
    "for tree_name in tree_types:\n",
    "    trees_1[tree_name] = copy.deepcopy(tree_types[tree_name])\n",
    "    trees_1[tree_name].fit(df_mcar_0.loc[~df_mcar_0['test'],features],df_mcar_0.loc[~df_mcar_0['test'],'y'])\n",
    "    df_mcar_0.loc[:, f'y_hat_{tree_name}'] = trees_1[tree_name].predict(df_mcar_0[features])\n",
    "\n",
    "# Calculate squared errors\n",
    "predictions = [f'y_hat_{tree_name}' for tree_name in tree_types]\n",
    "squared_errors = [f'se_{tree_name}' for tree_name in tree_types]\n",
    "df_mcar_0[squared_errors] = df_mcar_0[predictions].subtract(df_mcar_0['y'],axis=0).pow(2)\n",
    "\n",
    "# Check results\n",
    "df_res = pd.DataFrame(columns = ['train','test'])\n",
    "df_res['train'] = df_mcar_0.loc[~df['test'],squared_errors].mean(axis=0)\n",
    "df_res['test']  = df_mcar_0.loc[df['test'],squared_errors].mean(axis=0)\n",
    "print(df_res)"
   ]
  },
  {
   "cell_type": "markdown",
   "metadata": {},
   "source": [
    "### Example 3: MCAR in test set"
   ]
  },
  {
   "cell_type": "code",
   "execution_count": 9,
   "metadata": {},
   "outputs": [
    {
     "name": "stdout",
     "output_type": "stream",
     "text": [
      "                    train        test\n",
      "se_majority  4.794639e-29  270.578198\n",
      "se_mia       4.794639e-29  270.578198\n",
      "se_trinary   4.794639e-29  212.743006\n",
      "se_weighted  4.794639e-29  208.331918\n"
     ]
    }
   ],
   "source": [
    "df_mcar_1 = df[features+['y','test']].copy()\n",
    "df_mcar_1.loc[df_mcar_1['test'],features] = df_mcar_0.loc[df_mcar_0['test'],features].copy()\n",
    "    \n",
    "# Predict\n",
    "for tree_name in tree_types:\n",
    "    df_mcar_1.loc[:, f'y_hat_{tree_name}'] = trees_0[tree_name].predict(df_mcar_1[features])\n",
    "\n",
    "# Calculate squared errors\n",
    "predictions = [f'y_hat_{tree_name}' for tree_name in tree_types]\n",
    "squared_errors = [f'se_{tree_name}' for tree_name in tree_types]\n",
    "df_mcar_1[squared_errors] = df_mcar_1[predictions].subtract(df_mcar_1['y'],axis=0).pow(2)\n",
    "\n",
    "# Check results\n",
    "df_res = pd.DataFrame(columns = ['train','test'])\n",
    "df_res['train'] = df_mcar_1.loc[~df['test'],squared_errors].mean(axis=0)\n",
    "df_res['test']  = df_mcar_1.loc[df['test'],squared_errors].mean(axis=0)\n",
    "print(df_res)"
   ]
  },
  {
   "cell_type": "markdown",
   "metadata": {},
   "source": [
    "### Example 4: MCAR for one feature"
   ]
  },
  {
   "cell_type": "code",
   "execution_count": 10,
   "metadata": {},
   "outputs": [
    {
     "name": "stdout",
     "output_type": "stream",
     "text": [
      "                  train        test\n",
      "se_majority  206.998081  185.190907\n",
      "se_mia       194.020826  175.477551\n",
      "se_trinary   178.264739  161.702128\n",
      "se_weighted  217.135247  203.910848\n"
     ]
    }
   ],
   "source": [
    "feature = 'cont_normal'\n",
    "df_mcar_2 = df[features+['y','test']].copy()\n",
    "df_mcar_2.loc[:,feature] = df_mcar_0.loc[:,feature].copy()\n",
    "\n",
    "# Fit trees_2\n",
    "trees_2 = {}\n",
    "for tree_name in tree_types:\n",
    "    trees_2[tree_name] = copy.deepcopy(tree_types[tree_name])\n",
    "    trees_2[tree_name].fit(df_mcar_2.loc[~df_mcar_2['test'],features],df_mcar_2.loc[~df_mcar_2['test'],'y'])\n",
    "    df_mcar_2.loc[:, f'y_hat_{tree_name}'] = trees_2[tree_name].predict(df_mcar_2[features])\n",
    "    \n",
    "\n",
    "# Calculate squared errors\n",
    "predictions = [f'y_hat_{tree_name}' for tree_name in tree_types]\n",
    "squared_errors = [f'se_{tree_name}' for tree_name in tree_types]\n",
    "df_mcar_2[squared_errors] = df_mcar_2[predictions].subtract(df_mcar_2['y'],axis=0).pow(2)\n",
    "\n",
    "# Check results\n",
    "df_res = pd.DataFrame(columns = ['train','test'])\n",
    "df_res['train'] = df_mcar_2.loc[~df_mcar_2['test'],squared_errors].mean(axis=0)\n",
    "df_res['test']  = df_mcar_2.loc[df_mcar_2['test'],squared_errors].mean(axis=0)\n",
    "print(df_res)"
   ]
  },
  {
   "cell_type": "markdown",
   "metadata": {},
   "source": [
    "### Example 5: MAR for cont_normal"
   ]
  },
  {
   "cell_type": "code",
   "execution_count": 11,
   "metadata": {},
   "outputs": [],
   "source": [
    "def sigm(x):\n",
    "    return 1/(1+np.exp(-x))"
   ]
  },
  {
   "cell_type": "code",
   "execution_count": 12,
   "metadata": {},
   "outputs": [
    {
     "name": "stdout",
     "output_type": "stream",
     "text": [
      "                  train        test\n",
      "se_majority  200.549208  210.010578\n",
      "se_mia        77.059600   77.576321\n",
      "se_trinary   137.624294  145.982582\n",
      "se_weighted  164.377818  171.736046\n"
     ]
    }
   ],
   "source": [
    "missing_prob = sigm(df['cont_normal']-5)\n",
    "df_mcorr_0 = df[features+['y','test']].copy()\n",
    "to_remove = np.random.binomial(1,missing_prob) == 1\n",
    "df_mcorr_0.loc[to_remove, 'cont_normal'] = np.nan\n",
    "\n",
    "# Fit trees_3\n",
    "trees_3 = {}\n",
    "for tree_name in tree_types:\n",
    "    trees_3[tree_name] = copy.deepcopy(tree_types[tree_name])\n",
    "    trees_3[tree_name].fit(df_mcorr_0.loc[~df_mcorr_0['test'],features],df_mcorr_0.loc[~df_mcorr_0['test'],'y'])\n",
    "    df_mcorr_0.loc[:, f'y_hat_{tree_name}'] = trees_3[tree_name].predict(df_mcorr_0[features])\n",
    "    \n",
    "\n",
    "# Calculate squared errors\n",
    "predictions = [f'y_hat_{tree_name}' for tree_name in tree_types]\n",
    "squared_errors = [f'se_{tree_name}' for tree_name in tree_types]\n",
    "df_mcorr_0[squared_errors] = df_mcorr_0[predictions].subtract(df_mcorr_0['y'],axis=0).pow(2)\n",
    "\n",
    "# Check results\n",
    "df_res = pd.DataFrame(columns = ['train','test'])\n",
    "df_res['train'] = df_mcorr_0.loc[~df['test'],squared_errors].mean(axis=0)\n",
    "df_res['test']  = df_mcorr_0.loc[df['test'],squared_errors].mean(axis=0)\n",
    "print(df_res)"
   ]
  },
  {
   "cell_type": "markdown",
   "metadata": {},
   "source": [
    "### Example 6: MAR for cont_normal only in test data"
   ]
  },
  {
   "cell_type": "code",
   "execution_count": 13,
   "metadata": {},
   "outputs": [
    {
     "name": "stdout",
     "output_type": "stream",
     "text": [
      "                    train        test\n",
      "se_majority  4.794639e-29  274.855985\n",
      "se_mia       4.794639e-29  274.855985\n",
      "se_trinary   4.794639e-29  145.982582\n",
      "se_weighted  4.794639e-29  141.916863\n"
     ]
    }
   ],
   "source": [
    "df_mcorr_1 = df[features+['y','test']].copy()\n",
    "df_mcorr_1.loc[df_mcorr_1['test'],features] = df_mcorr_0.loc[df_mcorr_0['test'],features].copy()\n",
    "\n",
    "# Predict\n",
    "for tree_name in tree_types:\n",
    "    df_mcorr_1.loc[:, f'y_hat_{tree_name}'] = trees_0[tree_name].predict(df_mcorr_1[features])\n",
    "    \n",
    "\n",
    "# Calculate squared errors\n",
    "predictions = [f'y_hat_{tree_name}' for tree_name in tree_types]\n",
    "squared_errors = [f'se_{tree_name}' for tree_name in tree_types]\n",
    "df_mcorr_1[squared_errors] = df_mcorr_1[predictions].subtract(df_mcorr_1['y'],axis=0).pow(2)\n",
    "\n",
    "# Check results\n",
    "df_res = pd.DataFrame(columns = ['train','test'])\n",
    "df_res['train'] = df_mcorr_1.loc[~df['test'],squared_errors].mean(axis=0)\n",
    "df_res['test']  = df_mcorr_1.loc[df['test'],squared_errors].mean(axis=0)\n",
    "print(df_res)"
   ]
  },
  {
   "cell_type": "markdown",
   "metadata": {},
   "source": [
    "### Example 7: IM for cont_normal"
   ]
  },
  {
   "cell_type": "code",
   "execution_count": 14,
   "metadata": {},
   "outputs": [
    {
     "name": "stdout",
     "output_type": "stream",
     "text": [
      "                  train        test\n",
      "se_majority  302.754702  303.458527\n",
      "se_mia       255.396989  259.029560\n",
      "se_trinary   292.187928  293.225304\n",
      "se_weighted  331.445445  332.133868\n"
     ]
    }
   ],
   "source": [
    "missing_prob = sigm(df['y']-5)\n",
    "df_im_0 = df[features+['y','test']].copy()\n",
    "to_remove = np.random.binomial(1,missing_prob) == 1\n",
    "df_im_0.loc[to_remove, 'cont_normal'] = np.nan\n",
    "\n",
    "# Fit trees_4\n",
    "trees_4 = {}\n",
    "for tree_name in tree_types:\n",
    "    trees_4[tree_name] = copy.deepcopy(tree_types[tree_name])\n",
    "    trees_4[tree_name].fit(df_im_0.loc[~df_im_0['test'],features],df_im_0.loc[~df_im_0['test'],'y'])\n",
    "    df_im_0.loc[:, f'y_hat_{tree_name}'] = trees_4[tree_name].predict(df_im_0[features])\n",
    "    \n",
    "\n",
    "# Calculate squared errors\n",
    "predictions = [f'y_hat_{tree_name}' for tree_name in tree_types]\n",
    "squared_errors = [f'se_{tree_name}' for tree_name in tree_types]\n",
    "df_im_0[squared_errors] = df_im_0[predictions].subtract(df_im_0['y'],axis=0).pow(2)\n",
    "\n",
    "# Check results\n",
    "df_res = pd.DataFrame(columns = ['train','test'])\n",
    "df_res['train'] = df_im_0.loc[~df['test'],squared_errors].mean(axis=0)\n",
    "df_res['test']  = df_im_0.loc[df['test'],squared_errors].mean(axis=0)\n",
    "print(df_res)"
   ]
  },
  {
   "cell_type": "markdown",
   "metadata": {},
   "source": [
    "### Example 8: IM for cont_normal only in test data"
   ]
  },
  {
   "cell_type": "code",
   "execution_count": 15,
   "metadata": {},
   "outputs": [
    {
     "name": "stdout",
     "output_type": "stream",
     "text": [
      "                    train        test\n",
      "se_majority  4.794639e-29  474.246910\n",
      "se_mia       4.794639e-29  474.246910\n",
      "se_trinary   4.794639e-29  293.225304\n",
      "se_weighted  4.794639e-29  305.014159\n"
     ]
    }
   ],
   "source": [
    "df_im_1 = df[features+['y','test']].copy()\n",
    "df_im_1.loc[df_im_1['test'],features] = df_im_0.loc[df_im_0['test'],features].copy()\n",
    "\n",
    "# Predict\n",
    "for tree_name in tree_types:\n",
    "    df_im_1.loc[:, f'y_hat_{tree_name}'] = trees_0[tree_name].predict(df_im_1[features])\n",
    "    \n",
    "\n",
    "# Calculate squared errors\n",
    "predictions = [f'y_hat_{tree_name}' for tree_name in tree_types]\n",
    "squared_errors = [f'se_{tree_name}' for tree_name in tree_types]\n",
    "df_im_1[squared_errors] = df_im_1[predictions].subtract(df_im_1['y'],axis=0).pow(2)\n",
    "\n",
    "# Check results\n",
    "df_res = pd.DataFrame(columns = ['train','test'])\n",
    "df_res['train'] = df_im_1.loc[~df['test'],squared_errors].mean(axis=0)\n",
    "df_res['test']  = df_im_1.loc[df['test'],squared_errors].mean(axis=0)\n",
    "print(df_res)\n"
   ]
  },
  {
   "cell_type": "code",
   "execution_count": 20,
   "outputs": [
    {
     "data": {
      "text/plain": "cont_normal    0.576932\ncont_linear    0.148882\ncont_stairs    0.000000\ncat_version    0.120332\ncat_gender     0.153855\ndtype: float64"
     },
     "execution_count": 20,
     "metadata": {},
     "output_type": "execute_result"
    }
   ],
   "source": [
    "pd.Series(data = get_feature_importance(trees_4['trinary']))\n"
   ],
   "metadata": {
    "collapsed": false
   }
  }
 ],
 "metadata": {
  "kernelspec": {
   "display_name": "Python 3",
   "language": "python",
   "name": "python3"
  },
  "language_info": {
   "codemirror_mode": {
    "name": "ipython",
    "version": 3
   },
   "file_extension": ".py",
   "mimetype": "text/x-python",
   "name": "python",
   "nbconvert_exporter": "python",
   "pygments_lexer": "ipython3",
   "version": "3.7.4"
  }
 },
 "nbformat": 4,
 "nbformat_minor": 2
}
