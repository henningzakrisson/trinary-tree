{
 "cells": [
  {
   "cell_type": "code",
   "execution_count": 5,
   "metadata": {
    "collapsed": true
   },
   "outputs": [
    {
     "name": "stdout",
     "output_type": "stream",
     "text": [
      "/home/heza7322/PycharmProjects/missing-value-handling-in-carts\n"
     ]
    }
   ],
   "source": [
    "import copy\n",
    "import numpy as np\n",
    "import pandas as pd\n",
    "\n",
    "from src.common.functions import get_feature_importance\n",
    "%cd /home/heza7322/PycharmProjects/missing-value-handling-in-carts\n",
    "#%cd /Users/Henning/PycharmProjects/missing-value-handling-in-carts\n",
    "import matplotlib.pyplot as plt\n",
    "from src.binary_tree import BinaryTree\n",
    "from src.trinary_tree import TrinaryTree\n",
    "from src.weighted_tree import WeightedTree\n",
    "from src.common.functions import get_indices, calculate_loss, fit_response"
   ]
  },
  {
   "cell_type": "code",
   "execution_count": 6,
   "outputs": [
    {
     "name": "stdout",
     "output_type": "stream",
     "text": [
      "Split candidates: 368\n"
     ]
    }
   ],
   "source": [
    "data_folder = 'example_notebooks/data_cleaned/'\n",
    "file_name = 'lymphography.csv'\n",
    "\n",
    "# Load data\n",
    "df = pd.read_csv(data_folder+file_name,index_col = 0)\n",
    "features = [column for column in df.columns if column!='y']\n",
    "if file_name == 'zoo.csv':\n",
    "    df[df.columns[:-1]] = df[df.columns[:-1]].astype(float)\n",
    "df.reset_index(inplace = True,drop=True)\n",
    "\n",
    "# Test train split\n",
    "n = len(df)\n",
    "np.random.seed(11)\n",
    "df['test'] = False\n",
    "index_train = np.random.choice(df.index,int(n*0.2))\n",
    "df.loc[index_train,'test'] = True\n",
    "\n",
    "# Calculate number of split candidates\n",
    "X_train = df.loc[~df['test'],features]\n",
    "X_objects = X_train.loc[:,X_train.dtypes==object]\n",
    "splits_object = (2**X_objects.nunique()).sum()\n",
    "\n",
    "X_floats = X_train.loc[:,X_train.dtypes!=object]\n",
    "splits_float = (X_floats.nunique()-1).sum()\n",
    "\n",
    "splits = splits_object + splits_float\n",
    "print(f'Split candidates: {splits}')"
   ],
   "metadata": {
    "collapsed": false
   }
  },
  {
   "cell_type": "code",
   "execution_count": 7,
   "outputs": [
    {
     "name": "stdout",
     "output_type": "stream",
     "text": [
      "0    17.308674\n",
      "1    11.856231\n",
      "2    10.780767\n",
      "3    10.780767\n",
      "4          NaN\n",
      "dtype: float64\n",
      "max_depth: 2\n"
     ]
    }
   ],
   "source": [
    "# Find hyperparameters\n",
    "max_depths = [1,2,3,4,5]\n",
    "min_samples_leaf = 20\n",
    "losses = pd.Series(index = np.arange(0,max(max_depths)), dtype = float)\n",
    "\n",
    "X_train = df.loc[~df['test'],features]\n",
    "y_train = df.loc[~df['test'],'y']\n",
    "X_test  = df.loc[df['test'],features]\n",
    "y_test  = df.loc[df['test'],'y']\n",
    "\n",
    "losses[0] = calculate_loss(y_test)\n",
    "\n",
    "for max_depth in max_depths:\n",
    "    tree = BinaryTree(max_depth = max_depth, min_samples_leaf= min_samples_leaf)\n",
    "    tree.fit(X_train, y_train)\n",
    "    if y_test.dtype == float:\n",
    "        y_hat = tree.predict(X_test)\n",
    "        loss = calculate_loss(y_test,y_hat = y_hat)\n",
    "    else:\n",
    "        y_prob = tree.predict(X_test, prob = True)\n",
    "        loss = calculate_loss(y_test,y_prob = y_prob)\n",
    "\n",
    "    losses.loc[max_depth] = loss\n",
    "    if max_depth>1:\n",
    "        if losses.loc[max_depth]>=losses.loc[max_depth-1]:\n",
    "            break\n",
    "\n",
    "max_depth = losses.idxmin()\n",
    "\n",
    "print(losses)\n",
    "print(f'max_depth: {max_depth}')"
   ],
   "metadata": {
    "collapsed": false
   }
  },
  {
   "cell_type": "code",
   "execution_count": 8,
   "outputs": [],
   "source": [
    "# Set up trees\n",
    "min_samples_leaf = int(n*0.8/10)\n",
    "tree_types = {'majority': BinaryTree(max_depth=max_depth, min_samples_leaf=min_samples_leaf, missing_rule='majority'),\n",
    "              'mia':      BinaryTree(max_depth=max_depth, min_samples_leaf=min_samples_leaf,missing_rule='mia'),\n",
    "              'trinary':  TrinaryTree(max_depth=max_depth, min_samples_leaf=min_samples_leaf),\n",
    "              'weighted': WeightedTree(max_depth=max_depth, min_samples_leaf=min_samples_leaf)}"
   ],
   "metadata": {
    "collapsed": false
   }
  },
  {
   "cell_type": "code",
   "execution_count": 9,
   "outputs": [],
   "source": [
    "# Missingness of different frequencies\n",
    "missing_probs = [0,0.25,0.5,0.75]\n",
    "#missing_probs = [0,0.1,0.2,0.3,0.4,0.5,0.6,0.7,0.9,0.99]\n",
    "\n",
    "dfs = {0: df.copy()}\n",
    "n_to_remove = [0]\n",
    "for i in range(1,len(missing_probs)):\n",
    "    n_to_remove += [int(missing_probs[i]*n) - sum(n_to_remove[:i])]\n",
    "    dfs[i] = dfs[i-1].copy()\n",
    "    for feature in features:\n",
    "        to_remove = dfs[i].loc[~dfs[i][feature].isna()].sample(n_to_remove[i]).index\n",
    "        dfs[i].loc[to_remove,feature] = np.nan"
   ],
   "metadata": {
    "collapsed": false
   }
  },
  {
   "cell_type": "code",
   "execution_count": 10,
   "outputs": [
    {
     "ename": "KeyboardInterrupt",
     "evalue": "",
     "output_type": "error",
     "traceback": [
      "\u001B[0;31m---------------------------------------------------------------------------\u001B[0m",
      "\u001B[0;31mKeyboardInterrupt\u001B[0m                         Traceback (most recent call last)",
      "Cell \u001B[0;32mIn[10], line 12\u001B[0m\n\u001B[1;32m     10\u001B[0m \u001B[38;5;28;01mfor\u001B[39;00m tree_name \u001B[38;5;129;01min\u001B[39;00m tree_types:\n\u001B[1;32m     11\u001B[0m     trees[i][tree_name] \u001B[38;5;241m=\u001B[39m copy\u001B[38;5;241m.\u001B[39mdeepcopy(tree_types[tree_name])\n\u001B[0;32m---> 12\u001B[0m     \u001B[43mtrees\u001B[49m\u001B[43m[\u001B[49m\u001B[43mi\u001B[49m\u001B[43m]\u001B[49m\u001B[43m[\u001B[49m\u001B[43mtree_name\u001B[49m\u001B[43m]\u001B[49m\u001B[38;5;241;43m.\u001B[39;49m\u001B[43mfit\u001B[49m\u001B[43m(\u001B[49m\u001B[43mX_train\u001B[49m\u001B[43m,\u001B[49m\u001B[43my_train\u001B[49m\u001B[43m)\u001B[49m\n\u001B[1;32m     13\u001B[0m     \u001B[38;5;28;01mif\u001B[39;00m y_test\u001B[38;5;241m.\u001B[39mdtype \u001B[38;5;241m==\u001B[39m \u001B[38;5;28mfloat\u001B[39m:\n\u001B[1;32m     14\u001B[0m         y_hat \u001B[38;5;241m=\u001B[39m trees[i][tree_name]\u001B[38;5;241m.\u001B[39mpredict(X_test)\n",
      "File \u001B[0;32m~/PycharmProjects/missing-value-handling-in-carts/src/binary_tree.py:102\u001B[0m, in \u001B[0;36mBinaryTree.fit\u001B[0;34m(self, X, y)\u001B[0m\n\u001B[1;32m     99\u001B[0m     \u001B[38;5;28;01mreturn\u001B[39;00m\n\u001B[1;32m    101\u001B[0m \u001B[38;5;66;03m# Find splitting parameters\u001B[39;00m\n\u001B[0;32m--> 102\u001B[0m \u001B[38;5;28mself\u001B[39m\u001B[38;5;241m.\u001B[39mfeature, \u001B[38;5;28mself\u001B[39m\u001B[38;5;241m.\u001B[39msplitter, \u001B[38;5;28mself\u001B[39m\u001B[38;5;241m.\u001B[39mdefault_split \u001B[38;5;241m=\u001B[39m \u001B[38;5;28;43mself\u001B[39;49m\u001B[38;5;241;43m.\u001B[39;49m\u001B[43m_find_split\u001B[49m\u001B[43m(\u001B[49m\u001B[43mX\u001B[49m\u001B[43m,\u001B[49m\u001B[43m \u001B[49m\u001B[43my\u001B[49m\u001B[43m)\u001B[49m\n\u001B[1;32m    104\u001B[0m \u001B[38;5;28;01mif\u001B[39;00m \u001B[38;5;28mself\u001B[39m\u001B[38;5;241m.\u001B[39mfeature \u001B[38;5;129;01mis\u001B[39;00m \u001B[38;5;28;01mNone\u001B[39;00m:\n\u001B[1;32m    105\u001B[0m     \u001B[38;5;28;01mreturn\u001B[39;00m\n",
      "File \u001B[0;32m~/PycharmProjects/missing-value-handling-in-carts/src/binary_tree.py:146\u001B[0m, in \u001B[0;36mBinaryTree._find_split\u001B[0;34m(self, X, y)\u001B[0m\n\u001B[1;32m    142\u001B[0m default_splits \u001B[38;5;241m=\u001B[39m \u001B[38;5;28mself\u001B[39m\u001B[38;5;241m.\u001B[39m_get_default_split_candidates(\n\u001B[1;32m    143\u001B[0m     X, feature, splitter\n\u001B[1;32m    144\u001B[0m )\n\u001B[1;32m    145\u001B[0m \u001B[38;5;28;01mfor\u001B[39;00m default_split \u001B[38;5;129;01min\u001B[39;00m default_splits:\n\u001B[0;32m--> 146\u001B[0m     loss \u001B[38;5;241m=\u001B[39m \u001B[38;5;28;43mself\u001B[39;49m\u001B[38;5;241;43m.\u001B[39;49m\u001B[43m_calculate_split_loss\u001B[49m\u001B[43m(\u001B[49m\n\u001B[1;32m    147\u001B[0m \u001B[43m        \u001B[49m\u001B[43mX\u001B[49m\u001B[43m,\u001B[49m\u001B[43m \u001B[49m\u001B[43my\u001B[49m\u001B[43m,\u001B[49m\u001B[43m \u001B[49m\u001B[43mfeature\u001B[49m\u001B[43m,\u001B[49m\u001B[43m \u001B[49m\u001B[43msplitter\u001B[49m\u001B[43m,\u001B[49m\u001B[43m \u001B[49m\u001B[43mdefault_split\u001B[49m\n\u001B[1;32m    148\u001B[0m \u001B[43m    \u001B[49m\u001B[43m)\u001B[49m\n\u001B[1;32m    149\u001B[0m     \u001B[38;5;28;01mif\u001B[39;00m loss \u001B[38;5;241m<\u001B[39m loss_best:\n\u001B[1;32m    150\u001B[0m         loss_best \u001B[38;5;241m=\u001B[39m loss\n",
      "File \u001B[0;32m~/PycharmProjects/missing-value-handling-in-carts/src/binary_tree.py:210\u001B[0m, in \u001B[0;36mBinaryTree._calculate_split_loss\u001B[0;34m(self, X, y, feature, splitter, default_split)\u001B[0m\n\u001B[1;32m    205\u001B[0m \u001B[38;5;28;01mif\u001B[39;00m (\u001B[38;5;28msum\u001B[39m(index_left) \u001B[38;5;241m<\u001B[39m \u001B[38;5;28mself\u001B[39m\u001B[38;5;241m.\u001B[39mmin_samples_leaf) \u001B[38;5;129;01mor\u001B[39;00m (\n\u001B[1;32m    206\u001B[0m     \u001B[38;5;28msum\u001B[39m(index_right) \u001B[38;5;241m<\u001B[39m \u001B[38;5;28mself\u001B[39m\u001B[38;5;241m.\u001B[39mmin_samples_leaf\n\u001B[1;32m    207\u001B[0m ):\n\u001B[1;32m    208\u001B[0m     \u001B[38;5;28;01mreturn\u001B[39;00m \u001B[38;5;28mself\u001B[39m\u001B[38;5;241m.\u001B[39mloss\n\u001B[0;32m--> 210\u001B[0m loss_left_weighted \u001B[38;5;241m=\u001B[39m \u001B[43mcalculate_loss\u001B[49m\u001B[43m(\u001B[49m\u001B[43my\u001B[49m\u001B[38;5;241;43m=\u001B[39;49m\u001B[43my\u001B[49m\u001B[38;5;241;43m.\u001B[39;49m\u001B[43mloc\u001B[49m\u001B[43m[\u001B[49m\u001B[43mindex_left\u001B[49m\u001B[43m]\u001B[49m\u001B[43m)\u001B[49m \u001B[38;5;241m*\u001B[39m \u001B[38;5;28msum\u001B[39m(index_left)\n\u001B[1;32m    211\u001B[0m loss_right_weighted \u001B[38;5;241m=\u001B[39m calculate_loss(y\u001B[38;5;241m=\u001B[39my\u001B[38;5;241m.\u001B[39mloc[index_right]) \u001B[38;5;241m*\u001B[39m \u001B[38;5;28msum\u001B[39m(index_right)\n\u001B[1;32m    213\u001B[0m \u001B[38;5;28;01mreturn\u001B[39;00m (loss_left_weighted \u001B[38;5;241m+\u001B[39m loss_right_weighted) \u001B[38;5;241m/\u001B[39m \u001B[38;5;28mself\u001B[39m\u001B[38;5;241m.\u001B[39mn\n",
      "File \u001B[0;32m~/PycharmProjects/missing-value-handling-in-carts/src/common/functions.py:77\u001B[0m, in \u001B[0;36mcalculate_loss\u001B[0;34m(y, y_hat, y_prob, w)\u001B[0m\n\u001B[1;32m     75\u001B[0m \u001B[38;5;28;01melse\u001B[39;00m:\n\u001B[1;32m     76\u001B[0m     \u001B[38;5;28;01mif\u001B[39;00m y_prob \u001B[38;5;129;01mis\u001B[39;00m \u001B[38;5;28;01mNone\u001B[39;00m:\n\u001B[0;32m---> 77\u001B[0m         _,y_prob,_ \u001B[38;5;241m=\u001B[39m \u001B[43mfit_response\u001B[49m\u001B[43m(\u001B[49m\u001B[43my\u001B[49m\u001B[43m,\u001B[49m\u001B[43m \u001B[49m\u001B[43mw\u001B[49m\u001B[38;5;241;43m=\u001B[39;49m\u001B[43mw\u001B[49m\u001B[43m)\u001B[49m\n\u001B[1;32m     78\u001B[0m     \u001B[38;5;28;01mreturn\u001B[39;00m calculate_xe(y, y_prob \u001B[38;5;241m=\u001B[39m y_prob, w \u001B[38;5;241m=\u001B[39m w)\n",
      "File \u001B[0;32m~/PycharmProjects/missing-value-handling-in-carts/src/common/functions.py:46\u001B[0m, in \u001B[0;36mfit_response\u001B[0;34m(y, categories, w)\u001B[0m\n\u001B[1;32m     44\u001B[0m     \u001B[38;5;28;01mif\u001B[39;00m categories \u001B[38;5;129;01mis\u001B[39;00m \u001B[38;5;28;01mNone\u001B[39;00m:\n\u001B[1;32m     45\u001B[0m         categories \u001B[38;5;241m=\u001B[39m \u001B[38;5;28mlist\u001B[39m(y\u001B[38;5;241m.\u001B[39munique())\n\u001B[0;32m---> 46\u001B[0m     y_prob \u001B[38;5;241m=\u001B[39m {category: \u001B[38;5;28msum\u001B[39m((y\u001B[38;5;241m==\u001B[39mcategory)\u001B[38;5;241m*\u001B[39mw)\u001B[38;5;241m/\u001B[39m\u001B[38;5;28msum\u001B[39m(w) \u001B[38;5;28;01mfor\u001B[39;00m category \u001B[38;5;129;01min\u001B[39;00m categories}\n\u001B[1;32m     47\u001B[0m     y_hat \u001B[38;5;241m=\u001B[39m \u001B[38;5;28mmax\u001B[39m(y_prob, key\u001B[38;5;241m=\u001B[39my_prob\u001B[38;5;241m.\u001B[39mget)\n\u001B[1;32m     49\u001B[0m \u001B[38;5;28;01mreturn\u001B[39;00m y_hat, y_prob, categories\n",
      "File \u001B[0;32m~/PycharmProjects/missing-value-handling-in-carts/src/common/functions.py:46\u001B[0m, in \u001B[0;36m<dictcomp>\u001B[0;34m(.0)\u001B[0m\n\u001B[1;32m     44\u001B[0m     \u001B[38;5;28;01mif\u001B[39;00m categories \u001B[38;5;129;01mis\u001B[39;00m \u001B[38;5;28;01mNone\u001B[39;00m:\n\u001B[1;32m     45\u001B[0m         categories \u001B[38;5;241m=\u001B[39m \u001B[38;5;28mlist\u001B[39m(y\u001B[38;5;241m.\u001B[39munique())\n\u001B[0;32m---> 46\u001B[0m     y_prob \u001B[38;5;241m=\u001B[39m {category: \u001B[38;5;28msum\u001B[39m((\u001B[43my\u001B[49m\u001B[38;5;241;43m==\u001B[39;49m\u001B[43mcategory\u001B[49m)\u001B[38;5;241m*\u001B[39mw)\u001B[38;5;241m/\u001B[39m\u001B[38;5;28msum\u001B[39m(w) \u001B[38;5;28;01mfor\u001B[39;00m category \u001B[38;5;129;01min\u001B[39;00m categories}\n\u001B[1;32m     47\u001B[0m     y_hat \u001B[38;5;241m=\u001B[39m \u001B[38;5;28mmax\u001B[39m(y_prob, key\u001B[38;5;241m=\u001B[39my_prob\u001B[38;5;241m.\u001B[39mget)\n\u001B[1;32m     49\u001B[0m \u001B[38;5;28;01mreturn\u001B[39;00m y_hat, y_prob, categories\n",
      "File \u001B[0;32m~/anaconda3/envs/my_env/lib/python3.8/site-packages/pandas/core/ops/common.py:72\u001B[0m, in \u001B[0;36m_unpack_zerodim_and_defer.<locals>.new_method\u001B[0;34m(self, other)\u001B[0m\n\u001B[1;32m     68\u001B[0m             \u001B[38;5;28;01mreturn\u001B[39;00m \u001B[38;5;28mNotImplemented\u001B[39m\n\u001B[1;32m     70\u001B[0m other \u001B[38;5;241m=\u001B[39m item_from_zerodim(other)\n\u001B[0;32m---> 72\u001B[0m \u001B[38;5;28;01mreturn\u001B[39;00m \u001B[43mmethod\u001B[49m\u001B[43m(\u001B[49m\u001B[38;5;28;43mself\u001B[39;49m\u001B[43m,\u001B[49m\u001B[43m \u001B[49m\u001B[43mother\u001B[49m\u001B[43m)\u001B[49m\n",
      "File \u001B[0;32m~/anaconda3/envs/my_env/lib/python3.8/site-packages/pandas/core/arraylike.py:42\u001B[0m, in \u001B[0;36mOpsMixin.__eq__\u001B[0;34m(self, other)\u001B[0m\n\u001B[1;32m     40\u001B[0m \u001B[38;5;129m@unpack_zerodim_and_defer\u001B[39m(\u001B[38;5;124m\"\u001B[39m\u001B[38;5;124m__eq__\u001B[39m\u001B[38;5;124m\"\u001B[39m)\n\u001B[1;32m     41\u001B[0m \u001B[38;5;28;01mdef\u001B[39;00m \u001B[38;5;21m__eq__\u001B[39m(\u001B[38;5;28mself\u001B[39m, other):\n\u001B[0;32m---> 42\u001B[0m     \u001B[38;5;28;01mreturn\u001B[39;00m \u001B[38;5;28;43mself\u001B[39;49m\u001B[38;5;241;43m.\u001B[39;49m\u001B[43m_cmp_method\u001B[49m\u001B[43m(\u001B[49m\u001B[43mother\u001B[49m\u001B[43m,\u001B[49m\u001B[43m \u001B[49m\u001B[43moperator\u001B[49m\u001B[38;5;241;43m.\u001B[39;49m\u001B[43meq\u001B[49m\u001B[43m)\u001B[49m\n",
      "File \u001B[0;32m~/anaconda3/envs/my_env/lib/python3.8/site-packages/pandas/core/series.py:6245\u001B[0m, in \u001B[0;36mSeries._cmp_method\u001B[0;34m(self, other, op)\u001B[0m\n\u001B[1;32m   6242\u001B[0m \u001B[38;5;28;01mwith\u001B[39;00m np\u001B[38;5;241m.\u001B[39merrstate(\u001B[38;5;28mall\u001B[39m\u001B[38;5;241m=\u001B[39m\u001B[38;5;124m\"\u001B[39m\u001B[38;5;124mignore\u001B[39m\u001B[38;5;124m\"\u001B[39m):\n\u001B[1;32m   6243\u001B[0m     res_values \u001B[38;5;241m=\u001B[39m ops\u001B[38;5;241m.\u001B[39mcomparison_op(lvalues, rvalues, op)\n\u001B[0;32m-> 6245\u001B[0m \u001B[38;5;28;01mreturn\u001B[39;00m \u001B[38;5;28;43mself\u001B[39;49m\u001B[38;5;241;43m.\u001B[39;49m\u001B[43m_construct_result\u001B[49m\u001B[43m(\u001B[49m\u001B[43mres_values\u001B[49m\u001B[43m,\u001B[49m\u001B[43m \u001B[49m\u001B[43mname\u001B[49m\u001B[38;5;241;43m=\u001B[39;49m\u001B[43mres_name\u001B[49m\u001B[43m)\u001B[49m\n",
      "File \u001B[0;32m~/anaconda3/envs/my_env/lib/python3.8/site-packages/pandas/core/series.py:3223\u001B[0m, in \u001B[0;36mSeries._construct_result\u001B[0;34m(self, result, name)\u001B[0m\n\u001B[1;32m   3219\u001B[0m     \u001B[38;5;28;01mreturn\u001B[39;00m (res1, res2)\n\u001B[1;32m   3221\u001B[0m \u001B[38;5;66;03m# We do not pass dtype to ensure that the Series constructor\u001B[39;00m\n\u001B[1;32m   3222\u001B[0m \u001B[38;5;66;03m#  does inference in the case where `result` has object-dtype.\u001B[39;00m\n\u001B[0;32m-> 3223\u001B[0m out \u001B[38;5;241m=\u001B[39m \u001B[38;5;28;43mself\u001B[39;49m\u001B[38;5;241;43m.\u001B[39;49m\u001B[43m_constructor\u001B[49m\u001B[43m(\u001B[49m\u001B[43mresult\u001B[49m\u001B[43m,\u001B[49m\u001B[43m \u001B[49m\u001B[43mindex\u001B[49m\u001B[38;5;241;43m=\u001B[39;49m\u001B[38;5;28;43mself\u001B[39;49m\u001B[38;5;241;43m.\u001B[39;49m\u001B[43mindex\u001B[49m\u001B[43m)\u001B[49m\n\u001B[1;32m   3224\u001B[0m out \u001B[38;5;241m=\u001B[39m out\u001B[38;5;241m.\u001B[39m__finalize__(\u001B[38;5;28mself\u001B[39m)\n\u001B[1;32m   3226\u001B[0m \u001B[38;5;66;03m# Set the result's name after __finalize__ is called because __finalize__\u001B[39;00m\n\u001B[1;32m   3227\u001B[0m \u001B[38;5;66;03m#  would set it back to self.name\u001B[39;00m\n",
      "\u001B[0;31mKeyboardInterrupt\u001B[0m: "
     ]
    }
   ],
   "source": [
    "# Fit trees\n",
    "results = pd.DataFrame(columns = [key for key in tree_types], index = missing_probs)\n",
    "trees = {}\n",
    "for i,missing_prob in enumerate(missing_probs):\n",
    "    X_train = dfs[i].loc[~dfs[i]['test'],features]\n",
    "    y_train = dfs[i].loc[~dfs[i]['test'],'y']\n",
    "    X_test  = dfs[i].loc[dfs[i]['test'],features]\n",
    "    y_test  = dfs[i].loc[dfs[i]['test'],'y']\n",
    "    trees[i] = {}\n",
    "    for tree_name in tree_types:\n",
    "        trees[i][tree_name] = copy.deepcopy(tree_types[tree_name])\n",
    "        trees[i][tree_name].fit(X_train,y_train)\n",
    "        if y_test.dtype == float:\n",
    "            y_hat = trees[i][tree_name].predict(X_test)\n",
    "            loss = calculate_loss(y_test,y_hat = y_hat)\n",
    "        else:\n",
    "            y_prob = trees[i][tree_name].predict(X_test, prob = True)\n",
    "            loss = calculate_loss(y_test,y_prob = y_prob)\n",
    "        results.loc[missing_prob,tree_name] = loss\n",
    "\n",
    "(results/results.loc[0]-1).plot()"
   ],
   "metadata": {
    "collapsed": false
   }
  },
  {
   "cell_type": "code",
   "execution_count": null,
   "outputs": [],
   "source": [
    "# Missingness of different frequencies ONLY in test data\n",
    "results = pd.DataFrame(columns = [key for key in tree_types], index = missing_probs)\n",
    "for i,missing_prob in enumerate(missing_probs):\n",
    "    X_test  = dfs[i].loc[dfs[i]['test'],features]\n",
    "    y_test  = dfs[i].loc[dfs[i]['test'],'y']\n",
    "    for tree_name in tree_types:\n",
    "        if y_test.dtype == float:\n",
    "            y_hat = trees[0][tree_name].predict(X_test)\n",
    "            loss = calculate_loss(y_test,y_hat = y_hat)\n",
    "        else:\n",
    "            y_prob = trees[0][tree_name].predict(X_test, prob = True)\n",
    "            loss = calculate_loss(y_test,y_prob = y_prob)\n",
    "        results.loc[missing_prob,tree_name] = loss\n",
    "\n",
    "(results/results.loc[0]-1).plot()"
   ],
   "metadata": {
    "collapsed": false
   }
  },
  {
   "cell_type": "markdown",
   "source": [],
   "metadata": {
    "collapsed": false
   }
  },
  {
   "cell_type": "markdown",
   "source": [],
   "metadata": {
    "collapsed": false
   }
  }
 ],
 "metadata": {
  "kernelspec": {
   "display_name": "Python 3",
   "language": "python",
   "name": "python3"
  },
  "language_info": {
   "codemirror_mode": {
    "name": "ipython",
    "version": 2
   },
   "file_extension": ".py",
   "mimetype": "text/x-python",
   "name": "python",
   "nbconvert_exporter": "python",
   "pygments_lexer": "ipython2",
   "version": "2.7.6"
  }
 },
 "nbformat": 4,
 "nbformat_minor": 0
}
