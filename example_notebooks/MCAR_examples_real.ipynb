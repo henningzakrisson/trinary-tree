{
 "cells": [
  {
   "cell_type": "code",
   "execution_count": 1,
   "metadata": {
    "collapsed": true
   },
   "outputs": [
    {
     "name": "stdout",
     "output_type": "stream",
     "text": [
      "/home/heza7322/PycharmProjects/missing-value-handling-in-carts\n"
     ]
    }
   ],
   "source": [
    "import copy\n",
    "import numpy as np\n",
    "import pandas as pd\n",
    "\n",
    "from src.common.functions import get_feature_importance\n",
    "%cd /home/heza7322/PycharmProjects/missing-value-handling-in-carts\n",
    "#%cd /Users/Henning/PycharmProjects/missing-value-handling-in-carts\n",
    "import matplotlib.pyplot as plt\n",
    "from src.binary_tree import BinaryTree\n",
    "from src.trinary_tree import TrinaryTree\n",
    "from src.weighted_tree import WeightedTree\n",
    "from src.common.functions import get_indices, calculate_loss, fit_response\n"
   ]
  },
  {
   "cell_type": "code",
   "execution_count": 2,
   "outputs": [],
   "source": [
    "df = pd.read_fwf('example_notebooks/data/german.data',header = None)\n",
    "df = df.join(df[1].str.split(' ',expand=True),lsuffix='_').drop('1_',axis=1)\n",
    "df.columns = np.arange(df.shape[1])\n",
    "df['y'] = ['yes' if y=='1' else 'no' for y in df[df.columns[-1]]]\n",
    "features = df.columns[:-1]"
   ],
   "metadata": {
    "collapsed": false
   }
  },
  {
   "cell_type": "code",
   "execution_count": 2,
   "outputs": [],
   "source": [
    "df = pd.read_fwf('example_notebooks/data/balance-scale.data',header = None)[0]\n",
    "df = df.str.split(',',expand=True)\n",
    "df.rename({0:'y'},axis=1,inplace=True)\n",
    "features = df.drop('y',axis=1).columns"
   ],
   "metadata": {
    "collapsed": false
   }
  },
  {
   "cell_type": "code",
   "execution_count": 3,
   "outputs": [],
   "source": [
    "# Test train split\n",
    "n = len(df)\n",
    "df['test'] = False\n",
    "index_train = np.random.choice(df.index,int(n*0.2))\n",
    "df.loc[index_train,'test'] = True\n",
    "\n",
    "# Set up trees\n",
    "max_depth = 3\n",
    "min_samples_leaf = 5\n",
    "tree_types = {'majority': BinaryTree(max_depth=max_depth, min_samples_leaf=min_samples_leaf,missing_rule='majority'),\n",
    "              'mia':      BinaryTree(max_depth=max_depth, min_samples_leaf=min_samples_leaf,missing_rule='mia'),\n",
    "              'trinary':  TrinaryTree(max_depth=max_depth, min_samples_leaf=min_samples_leaf),\n",
    "              'weighted': WeightedTree(max_depth=max_depth, min_samples_leaf=min_samples_leaf)}"
   ],
   "metadata": {
    "collapsed": false
   }
  },
  {
   "cell_type": "code",
   "execution_count": 4,
   "outputs": [],
   "source": [
    "# Missingness of different frequencies\n",
    "missing_probs = [0,0.25,0.5,0.75]\n",
    "\n",
    "dfs = {0: df.copy()}\n",
    "n_to_remove = [0]\n",
    "for i in range(1,len(missing_probs)):\n",
    "    n_to_remove += [int(missing_probs[i]*n) - sum(n_to_remove[:i])]\n",
    "    dfs[i] = dfs[i-1].copy()\n",
    "    for feature in features:\n",
    "        to_remove = dfs[i].loc[~dfs[i][feature].isna()].sample(n_to_remove[i]).index\n",
    "        dfs[i].loc[to_remove,feature] = np.nan"
   ],
   "metadata": {
    "collapsed": false
   }
  },
  {
   "cell_type": "code",
   "execution_count": null,
   "outputs": [],
   "source": [
    "# Fit trees\n",
    "results = pd.DataFrame(columns = [key for key in tree_types], index = missing_probs)\n",
    "for i,missing_prob in enumerate(missing_probs):\n",
    "    print(missing_prob)\n",
    "    X_train = dfs[i].loc[~dfs[i]['test'],features]\n",
    "    y_train = dfs[i].loc[~dfs[i]['test'],'y']\n",
    "    X_test  = dfs[i].loc[dfs[i]['test'],features]\n",
    "    y_test  = dfs[i].loc[dfs[i]['test'],'y']\n",
    "    for tree_name in tree_types:\n",
    "        tree = copy.deepcopy(tree_types[tree_name])\n",
    "        tree.fit(X_train,y_train)\n",
    "\n",
    "        y_hat = tree.predict(X_test)\n",
    "        mse = (y_test!=y_hat).mean()\n",
    "        results.loc[missing_prob,tree_name] = mse\n",
    "        print(tree_name)\n",
    "\n",
    "(results-results.loc[0]).plot()"
   ],
   "metadata": {
    "collapsed": false,
    "pycharm": {
     "is_executing": true
    }
   }
  },
  {
   "cell_type": "markdown",
   "source": [],
   "metadata": {
    "collapsed": false
   }
  },
  {
   "cell_type": "code",
   "execution_count": null,
   "outputs": [],
   "source": [
    "# Missingness of different frequencies ONLY in test data\n",
    "dfs_2 = {i: dfs[i].copy() for i in range(len(missing_probs))}\n",
    "for i in range(1,len(missing_probs)):\n",
    "    dfs_2[i].loc[~dfs_2[i]['test']] = df.loc[~df['test']].copy()\n",
    "\n",
    "X_train = df.loc[~df['test'],features]\n",
    "y_train = df.loc[~df['test'],'y']\n",
    "fitted_trees = {}\n",
    "for tree_name in tree_types:\n",
    "    fitted_trees[tree_name] = copy.deepcopy(tree_types[tree_name])\n",
    "    fitted_trees[tree_name].fit(X_train,y_train)\n",
    "\n",
    "# Fit trees\n",
    "results = pd.DataFrame(columns = [key for key in tree_types], index = missing_probs)\n",
    "for i,missing_prob in enumerate(missing_probs):\n",
    "    print(missing_prob)\n",
    "    X_test  = dfs_2[i].loc[dfs_2[i]['test'],features]\n",
    "    y_test  = dfs_2[i].loc[dfs_2[i]['test'],'y']\n",
    "    for tree_name in tree_types:\n",
    "        y_hat = fitted_trees[tree_name].predict(X_test)\n",
    "        mse = (y_test!=y_hat).mean()\n",
    "        results.loc[missing_prob,tree_name] = mse\n",
    "        print(tree_name)\n",
    "\n",
    "results.plot()"
   ],
   "metadata": {
    "collapsed": false,
    "pycharm": {
     "is_executing": true
    }
   }
  },
  {
   "cell_type": "markdown",
   "source": [],
   "metadata": {
    "collapsed": false
   }
  }
 ],
 "metadata": {
  "kernelspec": {
   "display_name": "Python 3",
   "language": "python",
   "name": "python3"
  },
  "language_info": {
   "codemirror_mode": {
    "name": "ipython",
    "version": 2
   },
   "file_extension": ".py",
   "mimetype": "text/x-python",
   "name": "python",
   "nbconvert_exporter": "python",
   "pygments_lexer": "ipython2",
   "version": "2.7.6"
  }
 },
 "nbformat": 4,
 "nbformat_minor": 0
}
